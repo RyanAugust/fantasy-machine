{
 "cells": [
  {
   "cell_type": "code",
   "execution_count": 2,
   "metadata": {},
   "outputs": [
    {
     "name": "stdout",
     "output_type": "stream",
     "text": [
      "Test/Learn Ratio: 19.62%\n"
     ]
    }
   ],
   "source": [
    "import sqlite3 as sq3\n",
    "import pandas as pd\n",
    "import numpy as np\n",
    "\n",
    "import warnings\n",
    "warnings.filterwarnings('ignore')\n",
    "\n",
    "import config\n",
    "import matplotlib.pyplot as plt\n",
    "%matplotlib inline\n",
    "\n",
    "conn = sq3.connect(config.mlb_db_path)\n",
    "event = pd.read_sql(sql='select * from bevent where gameid like \"%201%\"', con=conn)\n",
    "\n",
    "event['date'] = event['gameid'].apply(lambda x: int(x[3:]))\n",
    "cut_point = 201707060\n",
    "learn, test = event[event['date'] < cut_point], event[event['date'] >= cut_point]\n",
    "print('Test/Learn Ratio: {}%'.format(round(float(len(test))/float(len(learn)),4)*100))"
   ]
  },
  {
   "cell_type": "code",
   "execution_count": 21,
   "metadata": {},
   "outputs": [],
   "source": [
    "learn['hteam'] = learn['gameid'].apply(lambda x: x[:3])\n",
    "cv = learn[['gameid','eventnum']].groupby('gameid').max().reset_index()\n",
    "wl = cv.merge(learn[['gameid','eventnum','hscore','vscore','hteam','vteam']], on=['gameid','eventnum'])[['hscore','vscore','hteam','vteam']]"
   ]
  },
  {
   "cell_type": "code",
   "execution_count": 22,
   "metadata": {},
   "outputs": [],
   "source": [
    "wl['winner'] = np.where(wl['hscore']>wl['vscore'],wl['hteam'],wl['vteam'])\n",
    "wl['loser'] = np.where(wl['hscore']<wl['vscore'],wl['hteam'],wl['vteam'])\n",
    "\n",
    "wl_ = wl[wl['hscore'] != wl['vscore']]"
   ]
  },
  {
   "cell_type": "code",
   "execution_count": 23,
   "metadata": {},
   "outputs": [],
   "source": [
    "xx = wl_[['winner','loser']]"
   ]
  },
  {
   "cell_type": "code",
   "execution_count": 26,
   "metadata": {},
   "outputs": [],
   "source": [
    "players = list(set(xx['winner'].tolist()))"
   ]
  },
  {
   "cell_type": "code",
   "execution_count": 27,
   "metadata": {},
   "outputs": [
    {
     "data": {
      "text/plain": [
       "[u'MIL',\n",
       " u'MIN',\n",
       " u'TOR',\n",
       " u'ATL',\n",
       " u'BOS',\n",
       " u'OAK',\n",
       " u'CIN',\n",
       " u'NYN',\n",
       " u'FLO',\n",
       " u'BAL',\n",
       " u'NYA',\n",
       " u'COL',\n",
       " u'TEX',\n",
       " u'MIA',\n",
       " u'SEA',\n",
       " u'CLE',\n",
       " u'PIT',\n",
       " u'CHA',\n",
       " u'DET',\n",
       " u'PHI',\n",
       " u'CHN',\n",
       " u'SLN',\n",
       " u'HOU',\n",
       " u'WAS',\n",
       " u'LAN',\n",
       " u'KCA',\n",
       " u'ANA',\n",
       " u'SFN',\n",
       " u'MON',\n",
       " u'TBA',\n",
       " u'ARI',\n",
       " u'SDN']"
      ]
     },
     "execution_count": 27,
     "metadata": {},
     "output_type": "execute_result"
    }
   ],
   "source": [
    "players"
   ]
  },
  {
   "cell_type": "code",
   "execution_count": 29,
   "metadata": {},
   "outputs": [],
   "source": [
    "import elo"
   ]
  },
  {
   "cell_type": "code",
   "execution_count": 30,
   "metadata": {},
   "outputs": [],
   "source": [
    "EL = elo.ELO(player_list=players)"
   ]
  },
  {
   "cell_type": "code",
   "execution_count": 38,
   "metadata": {},
   "outputs": [],
   "source": [
    "for w,l in zip(xx['winner'].tolist(),xx['loser'].tolist()):\n",
    "    EL.do_competition(winner=w,loser=l)"
   ]
  },
  {
   "cell_type": "code",
   "execution_count": 43,
   "metadata": {},
   "outputs": [
    {
     "name": "stdout",
     "output_type": "stream",
     "text": [
      "CHA\t1704.59619922\n",
      "MIL\t1590.34900983\n",
      "MIN\t1496.94314513\n",
      "TOR\t1614.5882904\n",
      "CLE\t1626.7980514\n",
      "ATL\t1493.88854492\n",
      "BOS\t1732.40238846\n",
      "DET\t1599.04260485\n",
      "CIN\t1583.1732476\n",
      "CHN\t1615.90208439\n",
      "SLN\t1624.46282817\n",
      "HOU\t1452.28662923\n",
      "NYN\t1595.17531724\n",
      "FLO\t1698.40498925\n",
      "LAN\t1675.3175419\n",
      "BAL\t1689.96337315\n",
      "NYA\t1586.9853641\n",
      "WAS\t1586.07254569\n",
      "COL\t1587.81937218\n",
      "OAK\t1583.7144332\n",
      "SFN\t1489.93745316\n",
      "PHI\t1619.88809907\n",
      "KCA\t1522.61266344\n",
      "ANA\t1756.02269255\n",
      "TEX\t1606.91684292\n",
      "MIA\t1523.14559196\n",
      "MON\t1629.31310871\n",
      "SEA\t1557.31493354\n",
      "TBA\t1652.9394402\n",
      "ARI\t1588.75073459\n",
      "SDN\t1561.70759163\n",
      "PIT\t1553.56488791\n"
     ]
    }
   ],
   "source": [
    "for k, v in EL.EM.player_elo_cache.items():\n",
    "    print('{}\\t{}'.format(k,v))"
   ]
  },
  {
   "cell_type": "code",
   "execution_count": null,
   "metadata": {},
   "outputs": [],
   "source": []
  }
 ],
 "metadata": {
  "kernelspec": {
   "display_name": "Projects",
   "language": "python",
   "name": "projects"
  },
  "language_info": {
   "codemirror_mode": {
    "name": "ipython",
    "version": 2
   },
   "file_extension": ".py",
   "mimetype": "text/x-python",
   "name": "python",
   "nbconvert_exporter": "python",
   "pygments_lexer": "ipython2",
   "version": "2.7.15"
  }
 },
 "nbformat": 4,
 "nbformat_minor": 2
}
