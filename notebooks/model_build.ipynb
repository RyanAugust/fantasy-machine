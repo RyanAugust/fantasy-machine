{
 "cells": [
  {
   "cell_type": "markdown",
   "metadata": {},
   "source": [
    "# Modeling"
   ]
  },
  {
   "cell_type": "code",
   "execution_count": 1,
   "metadata": {},
   "outputs": [
    {
     "name": "stdout",
     "output_type": "stream",
     "text": [
      "Test/Learn Ratio: 19.62%\n"
     ]
    }
   ],
   "source": [
    "import sqlite3 as sq3\n",
    "import pandas as pd\n",
    "import numpy as np\n",
    "\n",
    "import warnings\n",
    "warnings.filterwarnings('ignore')\n",
    "\n",
    "import config\n",
    "import matplotlib.pyplot as plt\n",
    "%matplotlib inline\n",
    "\n",
    "conn = sq3.connect(config.mlb_db_path)\n",
    "event = pd.read_sql(sql='select * from bevent where gameid like \"%201%\"', con=conn)\n",
    "\n",
    "event['date'] = event['gameid'].apply(lambda x: int(x[3:]))\n",
    "cut_point = 201707060\n",
    "learn, test = event[event['date'] < cut_point], event[event['date'] >= cut_point]\n",
    "print('Test/Learn Ratio: {}%'.format(round(float(len(test))/float(len(learn)),4)*100))"
   ]
  },
  {
   "cell_type": "markdown",
   "metadata": {},
   "source": [
    "# Pitcher History"
   ]
  },
  {
   "cell_type": "code",
   "execution_count": 2,
   "metadata": {},
   "outputs": [
    {
     "data": {
      "text/plain": [
       "{u'ANA201708060',\n",
       " u'ATL201708060',\n",
       " u'BAL201708060',\n",
       " u'BOS201708060',\n",
       " u'CHN201708060',\n",
       " u'CIN201708060',\n",
       " u'CLE201708060',\n",
       " u'COL201708060',\n",
       " u'HOU201708060',\n",
       " u'MIN201708060',\n",
       " u'NYN201708060',\n",
       " u'PIT201708060',\n",
       " u'SFN201708060',\n",
       " u'TBA201708060'}"
      ]
     },
     "execution_count": 2,
     "metadata": {},
     "output_type": "execute_result"
    }
   ],
   "source": [
    "test_ = test[(test['date'] == 201708060)]# & (test['gameid'] == \"LAN201707060\")]\n",
    "set(test_['gameid'])"
   ]
  },
  {
   "cell_type": "code",
   "execution_count": 14,
   "metadata": {},
   "outputs": [
    {
     "name": "stdout",
     "output_type": "stream",
     "text": [
      "('t0', {'SLG': 0.45454545454545453, 'BA': 0.22727272727272727}, 22)\n",
      "('t1', {'SLG': 0.2631578947368421, 'BA': 0.18421052631578946}, 38)\n"
     ]
    }
   ],
   "source": [
    "test_ = test[(test['gameid'] == \"BAL201708060\")]\n",
    "\n",
    "# Set pitchers\n",
    "gspec = test_[['inning','battingteam','vteam','pitcher']].groupby(['battingteam','pitcher']).agg({'inning':'min'})\n",
    "t0_p = list(gspec[gspec['inning']==1].loc[0].index)\n",
    "t1_p = list(gspec[gspec['inning']==1].loc[1].index)\n",
    "\n",
    "# find starting roster for each team\n",
    "t0_ros = list(test_[test_['battingteam'] == 0].groupby('batter').count(\n",
    "    ).sort_values('gameid', ascending=False).index[:9])\n",
    "t1_ros = list(test_[test_['battingteam'] == 1].groupby('batter').count(\n",
    "    ).sort_values('gameid', ascending=False).index[:9])\n",
    "\n",
    "#Slice learn dataset to get previous stats vs SP\n",
    "t0 = learn[(learn['batter'].isin(t0_ros)) & (learn['pitcher'].isin(t1_p))]\n",
    "t1 = learn[(learn['batter'].isin(t1_ros)) & (learn['pitcher'].isin(t0_p))]\n",
    "\n",
    "x0 = {'BA':(t0['hitvalue']/t0['hitvalue']).fillna(0).sum()/len(t0),\n",
    " 'SLG':float((t0['hitvalue']).sum())/len(t0)}\n",
    "x1 = {'BA':(t1['hitvalue']/t1['hitvalue']).fillna(0).sum()/len(t1),\n",
    " 'SLG':float((t1['hitvalue']).sum())/len(t1)}\n",
    "print('t0',x0, len(t0))\n",
    "print('t1',x1, len(t1))"
   ]
  },
  {
   "cell_type": "code",
   "execution_count": 15,
   "metadata": {},
   "outputs": [
    {
     "data": {
      "text/html": [
       "<div>\n",
       "<style scoped>\n",
       "    .dataframe tbody tr th:only-of-type {\n",
       "        vertical-align: middle;\n",
       "    }\n",
       "\n",
       "    .dataframe tbody tr th {\n",
       "        vertical-align: top;\n",
       "    }\n",
       "\n",
       "    .dataframe thead th {\n",
       "        text-align: right;\n",
       "    }\n",
       "</style>\n",
       "<table border=\"1\" class=\"dataframe\">\n",
       "  <thead>\n",
       "    <tr style=\"text-align: right;\">\n",
       "      <th></th>\n",
       "      <th>BA</th>\n",
       "      <th>SLG</th>\n",
       "    </tr>\n",
       "    <tr>\n",
       "      <th>battingteam</th>\n",
       "      <th></th>\n",
       "      <th></th>\n",
       "    </tr>\n",
       "  </thead>\n",
       "  <tbody>\n",
       "    <tr>\n",
       "      <th>0</th>\n",
       "      <td>0.318182</td>\n",
       "      <td>0.431818</td>\n",
       "    </tr>\n",
       "    <tr>\n",
       "      <th>1</th>\n",
       "      <td>0.377778</td>\n",
       "      <td>0.777778</td>\n",
       "    </tr>\n",
       "  </tbody>\n",
       "</table>\n",
       "</div>"
      ],
      "text/plain": [
       "                   BA       SLG\n",
       "battingteam                    \n",
       "0            0.318182  0.431818\n",
       "1            0.377778  0.777778"
      ]
     },
     "execution_count": 15,
     "metadata": {},
     "output_type": "execute_result"
    }
   ],
   "source": [
    "test_['hitvalue_'] = (test_['hitvalue']/test_['hitvalue']).fillna(0)\n",
    "ta_ = test_.groupby('battingteam').agg({'hitvalue_':'sum',\n",
    "                                        'hitvalue':'sum',\n",
    "                                 'gameid':'count'})\n",
    "ta_['BA'] = ta_['hitvalue_']/ta_['gameid']\n",
    "ta_['SLG'] = ta_['hitvalue']/ta_['gameid']\n",
    "\n",
    "ta_[['BA','SLG']]"
   ]
  },
  {
   "cell_type": "code",
   "execution_count": 10,
   "metadata": {},
   "outputs": [
    {
     "data": {
      "text/html": [
       "<div>\n",
       "<style scoped>\n",
       "    .dataframe tbody tr th:only-of-type {\n",
       "        vertical-align: middle;\n",
       "    }\n",
       "\n",
       "    .dataframe tbody tr th {\n",
       "        vertical-align: top;\n",
       "    }\n",
       "\n",
       "    .dataframe thead th {\n",
       "        text-align: right;\n",
       "    }\n",
       "</style>\n",
       "<table border=\"1\" class=\"dataframe\">\n",
       "  <thead>\n",
       "    <tr style=\"text-align: right;\">\n",
       "      <th></th>\n",
       "      <th>vscore</th>\n",
       "      <th>hscore</th>\n",
       "    </tr>\n",
       "  </thead>\n",
       "  <tbody>\n",
       "    <tr>\n",
       "      <th>1361366</th>\n",
       "      <td>3</td>\n",
       "      <td>12</td>\n",
       "    </tr>\n",
       "  </tbody>\n",
       "</table>\n",
       "</div>"
      ],
      "text/plain": [
       "         vscore  hscore\n",
       "1361366       3      12"
      ]
     },
     "execution_count": 10,
     "metadata": {},
     "output_type": "execute_result"
    }
   ],
   "source": [
    "test_[-1:][['vscore','hscore']]"
   ]
  }
 ],
 "metadata": {
  "kernelspec": {
   "display_name": "Projects",
   "language": "python",
   "name": "projects"
  },
  "language_info": {
   "codemirror_mode": {
    "name": "ipython",
    "version": 2
   },
   "file_extension": ".py",
   "mimetype": "text/x-python",
   "name": "python",
   "nbconvert_exporter": "python",
   "pygments_lexer": "ipython2",
   "version": "2.7.15"
  }
 },
 "nbformat": 4,
 "nbformat_minor": 2
}
