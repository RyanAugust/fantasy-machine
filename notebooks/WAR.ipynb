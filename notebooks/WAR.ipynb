{
 "cells": [
  {
   "cell_type": "markdown",
   "metadata": {},
   "source": [
    "# Position Player fWAR\n",
    "___\n",
    "\n",
    "           {    (Batting Runs + Base Running Runs + Fielding Runs +        }\n",
    "    fWAR = {  Positional Adjustment + League Adjustment +Replacement Runs) }\n",
    "           {                      / (Runs Per Win)                         }\n"
   ]
  },
  {
   "cell_type": "markdown",
   "metadata": {},
   "source": [
    "## Dynamic inputs"
   ]
  },
  {
   "cell_type": "code",
   "execution_count": 1,
   "metadata": {},
   "outputs": [],
   "source": [
    "import pandas as pd\n",
    "import numpy as np\n",
    "import sqlite3\n",
    "\n",
    "import config"
   ]
  },
  {
   "cell_type": "code",
   "execution_count": 2,
   "metadata": {},
   "outputs": [],
   "source": [
    "con = sqlite3.connect(config.mlb_db_path)"
   ]
  },
  {
   "cell_type": "code",
   "execution_count": 3,
   "metadata": {},
   "outputs": [],
   "source": [
    "# df = pd.read_sql_query(\"\"\"SELECT * \n",
    "#                        FROM {} \n",
    "#                        WHERE (gameid like '%OAK%' OR vteam='OAK')\n",
    "#                        \"\"\".format('bevent'),\n",
    "#                        con=con)\n",
    "df = pd.read_sql_query(\"\"\"SELECT * \n",
    "                       FROM {}\n",
    "                       WHERE gameid like '%2018%'\n",
    "                       \"\"\".format('bevent'),\n",
    "                       con=con)"
   ]
  },
  {
   "cell_type": "code",
   "execution_count": 4,
   "metadata": {},
   "outputs": [],
   "source": [
    "play_defs = {\n",
    "     0:'Unknown event',\n",
    "     1:'No event',\n",
    "     2:'Generic out',\n",
    "     3:'Strikeout',\n",
    "     4:'Stolen base',\n",
    "     5:'Defensive indifference',\n",
    "     6:'Caught stealing',\n",
    "     7:'Pickoff error',\n",
    "     8:'Pickoff',\n",
    "     9:'Wild pitch',\n",
    "     10:'Passed ball',\n",
    "     11:'Balk',\n",
    "     12:'Other advance',\n",
    "     13:'Foul error',\n",
    "     14:'Walk',\n",
    "     15:'Intentional walk',\n",
    "     16:'Hit by pitch',\n",
    "     17:'Interference',\n",
    "     18:'Error',\n",
    "     19:'Fielders choice',\n",
    "     20:'Single',\n",
    "     21:'Double',\n",
    "     22:'Triple',\n",
    "     23:'Home run',\n",
    "     24:'Missing play'}"
   ]
  },
  {
   "cell_type": "markdown",
   "metadata": {},
   "source": [
    "## Batting Runs\n",
    "___\n",
    "    player’s:\n",
    "        wOBA\n",
    "        PA\n",
    "        home park factor \n",
    "    League: \n",
    "        Average wOBA (lgwOBA)\n",
    "        the wOBA Scale\n",
    "        MLB R/PA (lgR/PA)\n",
    "        Specific league (AL or NL) wRC and PA for non-pitchers\n",
    "___\n",
    "    >> wRAA = ((wOBA – lgwOBA)/wOBA Scale) * PA\n",
    "    >>> Batting Runs = wRAA + (lgR/PA – (PF*lgR/PA))*PA + (lgR/PA – (AL or NL non-pitcher wRC/PA))*PA"
   ]
  },
  {
   "cell_type": "code",
   "execution_count": 5,
   "metadata": {},
   "outputs": [],
   "source": [
    "class metric_calculator(object):\n",
    "    def __init__(self, data):\n",
    "        self.mts = stat_metrics(data)\n",
    "        self.metric_fxns = {\n",
    "            'BA':self.mts.batting_avg,\n",
    "            'SLG':self.mts.slugging,\n",
    "            'wOBA':self.mts.wOBA,\n",
    "            'wRAA':self.mts.wRAA,\n",
    "            'UZR':self.mts.UZR,\n",
    "            'fWAR':self.mts.fWAR}\n",
    "            \n",
    "    def calculate(self, player_ids, metric):\n",
    "        self.metric_exists(metric)\n",
    "        metric_calc = self.metric_fxns[metric]\n",
    "        value = metric_calc(player_ids)\n",
    "        return value\n",
    "        \n",
    "    def metric_exists(self, metric):\n",
    "        assert metric in self.metric_fxns.keys(), \"Invalid metric, metric not defined\"\n",
    "        return None"
   ]
  },
  {
   "cell_type": "code",
   "execution_count": 140,
   "metadata": {},
   "outputs": [],
   "source": [
    "class stat_metrics(object):\n",
    "    def __init__(self, data):\n",
    "        self.df = data\n",
    "        self.fg_constants = {'wOBA':.315,\n",
    "                        'wOBAScale':1.226,\n",
    "                        'wBB':.690,\n",
    "                        'wHBP':.720,\n",
    "                        'w1B':.880,\n",
    "                        'w2B':1.247,\n",
    "                        'w3B':1.578,\n",
    "                        'wHR':2.031}\n",
    "        self.position_adj = {1:0,\n",
    "            2:+12.5,\n",
    "            3:-12.5,\n",
    "            4:+2.5,\n",
    "            6:+7.5,\n",
    "            5:+2.5,\n",
    "            7:-7.5,\n",
    "            8:+2.5,\n",
    "            9:-7.5,\n",
    "            10:-17.5}\n",
    "        \n",
    "    def pre_process(self, df, process_dict):\n",
    "#         event_specs =  pd.DataFrame(\n",
    "#             index=np.arange(26)\n",
    "#             ).join(df.groupby('eventtype').agg(process_dict)).fillna(0)\n",
    "        event_specs = df.groupby('eventtype').agg(process_dict)\n",
    "        event_specs = self.check_eventtype(event_specs)\n",
    "        return event_specs\n",
    "    \n",
    "    def check_eventtype(self,df):\n",
    "        for num in range(26):\n",
    "            if num not in df.index:\n",
    "                df.loc[num] = 0.0\n",
    "            else:\n",
    "                pass\n",
    "        return df\n",
    "    \n",
    "    def player_df(self, player_ids, stat_type='batter'):\n",
    "        if type(player_ids) == str:\n",
    "            player_ids = [player_id]\n",
    "        elif type(player_ids) == list:\n",
    "            pass\n",
    "        else:\n",
    "            assert \"Invalid Player ID/List\"\n",
    "        \n",
    "        return self.df[self.df[stat_type].isin(player_ids)]\n",
    "            \n",
    "    #####################################\n",
    "    ############ BATTING  ###############\n",
    "    #####################################\n",
    "    def wOBA(self, player_ids):\n",
    "        df = self.player_df(player_ids=player_ids, stat_type='batter')\n",
    "        ## General Stats\n",
    "        df_ = self.pre_process(df, {'gameid':'count'})['gameid']\n",
    "        hbp = df_.loc[16]\n",
    "        ibb = df_.loc[15]\n",
    "        bb = df_.loc[14] + ibb\n",
    "        b1 = df_.loc[20]\n",
    "        b2 = df_.loc[21]\n",
    "        b3 = df_.loc[22]\n",
    "        hr = df_.loc[23]\n",
    "        ab = len(df[df['abflag'] == 'T'])\n",
    "        ibb = df_.loc[15]\n",
    "        ## SF calculation\n",
    "        sf = len(df[df['sfflag'] == 'T'])\n",
    "        value = (\n",
    "            (self.fg_constants['wBB']*(bb-ibb) + \n",
    "            self.fg_constants['wHBP']*hbp + \n",
    "            self.fg_constants['w1B']*b1 + \n",
    "            self.fg_constants['w2B']*b2 + \n",
    "            self.fg_constants['w3B']*b3 + \n",
    "            self.fg_constants['wHR']*hr)/\n",
    "                (ab+bb-ibb+sf+hbp))\n",
    "        return value\n",
    "    \n",
    "    def batting_avg(self, player_ids):\n",
    "        df = self.player_df(player_ids=player_ids, stat_type='batter')\n",
    "        df_ = self.pre_process(df, {'gameid':'count'})['gameid']\n",
    "        b1 = df_.loc[20]\n",
    "        b2 = df_.loc[21]\n",
    "        b3 = df_.loc[22]\n",
    "        hr = df_.loc[23]\n",
    "        ## AB flag count\n",
    "        ab = len(df[df['abflag'] == 'T'])\n",
    "        value = (b1+b2+b3+hr)/ab\n",
    "        return value\n",
    "\n",
    "    def slugging(self, player_ids):\n",
    "        df = self.player_df(player_ids=player_ids, stat_type='batter')\n",
    "        df_ = self.pre_process(df, {'gameid':'count'})['gameid']\n",
    "        b1 = df_.loc[20]\n",
    "        b2 = df_.loc[21]\n",
    "        b3 = df_.loc[22]\n",
    "        hr = df_.loc[23]\n",
    "        ## AB flag count\n",
    "        ab = len(df[df['abflag'] == 'T'])\n",
    "        value = (b1+(b2*2)+(b3*3)+(hr*4))/ab\n",
    "        return value\n",
    "    \n",
    "    def wRAA(self, player_ids):\n",
    "        df = self.player_df(player_ids=player_ids, stat_type='batter')\n",
    "        wOBA = self.wOBA(player_ids=player_ids)\n",
    "        df_ = self.pre_process(df, {'gameid':'count'})['gameid']\n",
    "        ab = len(df[df['abflag'] == 'T'])\n",
    "        hbp = df_.loc[16]\n",
    "        ibb = df_.loc[15]\n",
    "        bb = df_.loc[14] + ibb\n",
    "        sh = len(df[df['shflag'] == 'T'])\n",
    "        ## SF calculation\n",
    "        sf = len(df[df['sfflag'] == 'T'])\n",
    "        value = ((wOBA-self.fg_constants['wOBA'])/self.fg_constants['wOBAScale'])*(ab+bb+hbp+sf+sh)\n",
    "        return value\n",
    "    \n",
    "    def UZR(self, player_ids):\n",
    "        df = self.player_df(player_ids=player_ids, stat_type='batter')\n",
    "        value = 0\n",
    "        return value\n",
    "    \n",
    "    def position_determination(self, player_ids):\n",
    "        df = self.player_df(player_ids=player_ids, stat_type='batter')\n",
    "        pos_group = df[['gameid','defensiveposition']].groupby('defensiveposition').count()\n",
    "        position = pos_group.sort_values('gameid', ascending=False).index.tolist()[0]\n",
    "        return position\n",
    "    \n",
    "    def fWAR(self, player_ids):\n",
    "        df = self.player_df(player_ids=player_ids, stat_type='batter')\n",
    "        wRAA = self.wRAA(player_ids)\n",
    "        UZR = self.UZR(player_ids)\n",
    "        pos = self.position_determination(player_ids)\n",
    "        position = self.position_adj[pos]\n",
    "        pa = len(df)\n",
    "        value = wRAA + 0 + position + (20/600)*pa\n",
    "        return value\n",
    "        "
   ]
  },
  {
   "cell_type": "code",
   "execution_count": 141,
   "metadata": {},
   "outputs": [],
   "source": [
    "calc = metric_calculator(data=df)"
   ]
  },
  {
   "cell_type": "code",
   "execution_count": 142,
   "metadata": {},
   "outputs": [],
   "source": [
    "df['year'] = df['gameid'].apply(lambda x: int(x[3:7]))"
   ]
  },
  {
   "cell_type": "code",
   "execution_count": 143,
   "metadata": {},
   "outputs": [],
   "source": [
    "team_id = 'ANA'\n",
    "\n",
    "team = list(set(\n",
    "    list(set(df[(df['year'] == 2018) & (df['gameid'].str.contains(team_id)) & (df['battingteam'] == 1)]['batter'])) + \n",
    "    list(set(df[(df['year'] == 2018) & (df['vteam']==team_id) & (df['battingteam'] == 0)]['batter']))\n",
    "))"
   ]
  },
  {
   "cell_type": "code",
   "execution_count": 144,
   "metadata": {},
   "outputs": [
    {
     "name": "stdout",
     "output_type": "stream",
     "text": [
      "penaf002:\t-1.54159869494\n",
      "pujoa001:\t-18.8235750655\n",
      "hermm001:\t-9.81729200653\n",
      "calhk001:\t-21.7392872106\n",
      "blasj001:\t-13.0774877651\n",
      "gratj001:\t12.1859706362\n",
      "wardt002:\t-4.68433931485\n",
      "mcgud001:\t-0.0530179445351\n",
      "valbl001:\t-12.0998797974\n",
      "troum001:\t67.7051246475\n",
      "bricj001:\t10.9248885692\n",
      "maldm001:\t-0.686814702994\n",
      "youne003:\t-4.53099510604\n",
      "hudsj002:\t11.1517128874\n",
      "younc004:\t-12.364266355\n",
      "barrj003:\t-1.28466557912\n",
      "johns002:\t0.26101141925\n",
      "cowak001:\t-8.77406199021\n",
      "arcif001:\t9.20554649266\n",
      "kinsi001:\t-4.9339314845\n",
      "ohtas001:\t4.80377086209\n",
      "despo001:\t-0.566884176183\n",
      "fontn001:\t6.63621533442\n",
      "uptoj001:\t9.07189542484\n",
      "heana001:\t-1.33768352365\n",
      "schir001:\t3.4836867863\n",
      "simma001:\t12.8841802815\n",
      "martj007:\t-18.3246329527\n",
      "river003:\t11.2659053834\n",
      "cozaz001:\t-2.80424143556\n",
      "fernj004:\t-13.6150081566\n",
      "fletd002:\t-1.99498529664\n"
     ]
    }
   ],
   "source": [
    "for player_id in team:\n",
    "    print('{}:\\t{}'.format(player_id, calc.calculate(player_ids=[player_id], metric='fWAR')))\n",
    "#     except:\n",
    "#         print('No Data')"
   ]
  },
  {
   "cell_type": "code",
   "execution_count": 97,
   "metadata": {},
   "outputs": [
    {
     "data": {
      "text/html": [
       "<div>\n",
       "<style scoped>\n",
       "    .dataframe tbody tr th:only-of-type {\n",
       "        vertical-align: middle;\n",
       "    }\n",
       "\n",
       "    .dataframe tbody tr th {\n",
       "        vertical-align: top;\n",
       "    }\n",
       "\n",
       "    .dataframe thead th {\n",
       "        text-align: right;\n",
       "    }\n",
       "</style>\n",
       "<table border=\"1\" class=\"dataframe\">\n",
       "  <thead>\n",
       "    <tr style=\"text-align: right;\">\n",
       "      <th></th>\n",
       "      <th>gameid</th>\n",
       "    </tr>\n",
       "    <tr>\n",
       "      <th>defensiveposition</th>\n",
       "      <th></th>\n",
       "    </tr>\n",
       "  </thead>\n",
       "  <tbody>\n",
       "    <tr>\n",
       "      <th>1</th>\n",
       "      <td>6</td>\n",
       "    </tr>\n",
       "  </tbody>\n",
       "</table>\n",
       "</div>"
      ],
      "text/plain": [
       "                   gameid\n",
       "defensiveposition        \n",
       "1                       6"
      ]
     },
     "execution_count": 97,
     "metadata": {},
     "output_type": "execute_result"
    }
   ],
   "source": [
    "df[df['batter'].isin(['penaf002'])][['gameid','defensiveposition']].groupby('defensiveposition').count()"
   ]
  },
  {
   "cell_type": "code",
   "execution_count": 87,
   "metadata": {},
   "outputs": [
    {
     "data": {
      "text/plain": [
       "Index([u'gameid', u'vteam', u'inning', u'battingteam', u'outs', u'balls',\n",
       "       u'strikes', u'pitchsequence', u'vscore', u'hscore', u'batter',\n",
       "       u'batterhand', u'resbatter', u'resbatterhand', u'pitcher',\n",
       "       u'pitcherhand', u'respitcher', u'respitcherhand', u'catcher',\n",
       "       u'firstbase', u'secondbase', u'thirdbase', u'shortstop', u'leftfield',\n",
       "       u'centerfield', u'rightfield', u'firstrunner', u'secondrunner',\n",
       "       u'thirdrunner', u'eventtext', u'leadoff', u'pinchhit',\n",
       "       u'defensiveposition', u'lineupposition', u'eventtype',\n",
       "       u'battereventflag', u'abflag', u'hitvalue', u'shflag', u'sfflag',\n",
       "       u'outsonplay', u'doubleplayflag', u'tripleplayflag', u'rbionplay',\n",
       "       u'wildpitchflag', u'passedballflag', u'fieldedby', u'battedballtype',\n",
       "       u'buntflag', u'foulflag', u'hitlocation', u'numerrors', u'firsterror',\n",
       "       u'firsterrortype', u'seconderror', u'seconderrortype', u'thirderror',\n",
       "       u'thirderrortype', u'batterdest', u'firstdest', u'seconddest',\n",
       "       u'thirddest', u'playonbatter', u'playonfirst', u'playonsecond',\n",
       "       u'playonthird', u'sbfirst', u'sbsecond', u'sbthird', u'csfirst',\n",
       "       u'cssecond', u'csthird', u'pofirst', u'posecond', u'pothird',\n",
       "       u'respfirst', u'respsecond', u'respthird', u'newgame', u'endgame',\n",
       "       u'pinchfirst', u'pinchsecond', u'pinchthird', u'removefirst',\n",
       "       u'removesecond', u'removethird', u'removebatter', u'removebatterpos',\n",
       "       u'fielder1', u'fielder2', u'fielder3', u'assist1', u'assist2',\n",
       "       u'assist3', u'assist4', u'assist5', u'eventnum', u'year'],\n",
       "      dtype='object')"
      ]
     },
     "execution_count": 87,
     "metadata": {},
     "output_type": "execute_result"
    }
   ],
   "source": [
    "df.columns"
   ]
  },
  {
   "cell_type": "code",
   "execution_count": null,
   "metadata": {},
   "outputs": [],
   "source": []
  }
 ],
 "metadata": {
  "kernelspec": {
   "display_name": "Projects",
   "language": "python",
   "name": "projects"
  },
  "language_info": {
   "codemirror_mode": {
    "name": "ipython",
    "version": 2
   },
   "file_extension": ".py",
   "mimetype": "text/x-python",
   "name": "python",
   "nbconvert_exporter": "python",
   "pygments_lexer": "ipython2",
   "version": "2.7.15"
  }
 },
 "nbformat": 4,
 "nbformat_minor": 2
}
