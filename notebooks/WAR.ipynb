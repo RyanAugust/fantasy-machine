{
 "cells": [
  {
   "cell_type": "markdown",
   "metadata": {},
   "source": [
    "# Position Player fWAR\n",
    "___\n",
    "\n",
    "           {    (Batting Runs + Base Running Runs + Fielding Runs +        }\n",
    "    fWAR = {  Positional Adjustment + League Adjustment +Replacement Runs) }\n",
    "           {                      / (Runs Per Win)                         }\n"
   ]
  },
  {
   "cell_type": "code",
   "execution_count": 1,
   "metadata": {},
   "outputs": [],
   "source": [
    "import pandas as pd\n",
    "import sqlite3\n",
    "\n",
    "import config"
   ]
  },
  {
   "cell_type": "markdown",
   "metadata": {},
   "source": [
    "## Batting Runs\n",
    "___\n",
    "    player’s:\n",
    "        wOBA\n",
    "        PA\n",
    "        home park factor \n",
    "    League: \n",
    "        Average wOBA (lgwOBA)\n",
    "        the wOBA Scale\n",
    "        MLB R/PA (lgR/PA)\n",
    "        Specific league (AL or NL) wRC and PA for non-pitchers\n",
    "___\n",
    "    >> wRAA = ((wOBA – lgwOBA)/wOBA Scale) * PA\n",
    "    >>> Batting Runs = wRAA + (lgR/PA – (PF*lgR/PA))*PA + (lgR/PA – (AL or NL non-pitcher wRC/PA))*PA"
   ]
  },
  {
   "cell_type": "code",
   "execution_count": null,
   "metadata": {},
   "outputs": [],
   "source": [
    "def wRAA():\n",
    "    \n",
    "def wOBA(player_data):\n",
    "    \"\"\"(0.690∗uBB + 0.722∗HBP + 0.888∗1B + 1.271∗2B + 1.616∗3B + 2.101∗HR)/\n",
    "                                (AB+BB−IBB+SF+HBP)\"\"\"\n",
    "    player_data['uBB']"
   ]
  }
 ],
 "metadata": {
  "kernelspec": {
   "display_name": "Projects",
   "language": "python",
   "name": "projects"
  },
  "language_info": {
   "codemirror_mode": {
    "name": "ipython",
    "version": 2
   },
   "file_extension": ".py",
   "mimetype": "text/x-python",
   "name": "python",
   "nbconvert_exporter": "python",
   "pygments_lexer": "ipython2",
   "version": "2.7.15"
  }
 },
 "nbformat": 4,
 "nbformat_minor": 2
}
