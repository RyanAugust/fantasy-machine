{
 "cells": [
  {
   "cell_type": "markdown",
   "metadata": {},
   "source": [
    "# MLB\n",
    "____"
   ]
  },
  {
   "cell_type": "markdown",
   "metadata": {},
   "source": [
    "##  Past\n",
    "* Retrosheet Datafiles: https://www.retrosheet.org/game.htm\n",
    "* Retrosheet Docs: https://www.retrosheet.org/eventfile.htm\n",
    "\n",
    "We'll be using eventfiles and parsing into a database"
   ]
  },
  {
   "cell_type": "code",
   "execution_count": 1,
   "metadata": {},
   "outputs": [],
   "source": [
    "import os\n",
    "import requests, zipfile, io\n",
    "import pandas as pd\n",
    "import sqlite3\n",
    "\n",
    "import data_pipes\n",
    "from config import mlb_data_path, mlb_db_path"
   ]
  },
  {
   "cell_type": "code",
   "execution_count": 2,
   "metadata": {},
   "outputs": [
    {
     "name": "stdout",
     "output_type": "stream",
     "text": [
      "1969 Complete\n",
      "1970 Complete\n",
      "UNUSED FILE: 1971.EDN\n",
      "1971 Complete\n",
      "UNUSED FILE: 1972.EDN\n",
      "1972 Complete\n",
      "UNUSED FILE: 1973.EDN\n",
      "1973 Complete\n",
      "1974 Complete\n",
      "1975 Complete\n",
      "1976 Complete\n",
      "1977 Complete\n",
      "1978 Complete\n",
      "1979 Complete\n",
      "1980 Complete\n",
      "1981 Complete\n",
      "1982 Complete\n",
      "1983 Complete\n",
      "1984 Complete\n",
      "1985 Complete\n",
      "1986 Complete\n",
      "1987 Complete\n",
      "1988 Complete\n",
      "1989 Complete\n",
      "1990 Complete\n",
      "1991 Complete\n",
      "1992 Complete\n",
      "1993 Complete\n",
      "1994 Complete\n",
      "1995 Complete\n",
      "1996 Complete\n",
      "1997 Complete\n",
      "1998 Complete\n",
      "1999 Complete\n",
      "2000 Complete\n",
      "2001 Complete\n",
      "2002 Complete\n",
      "2003 Complete\n",
      "2004 Complete\n",
      "2005 Complete\n",
      "2006 Complete\n",
      "2007 Complete\n",
      "2008 Complete\n",
      "2009 Complete\n",
      "2010 Complete\n",
      "2011 Complete\n",
      "2012 Complete\n",
      "2013 Complete\n",
      "2014 Complete\n",
      "2015 Complete\n",
      "2016 Complete\n",
      "2017 Complete\n",
      "2018 Complete\n"
     ]
    },
    {
     "data": {
      "text/plain": [
       "'---Run Complete---'"
      ]
     },
     "execution_count": 2,
     "metadata": {},
     "output_type": "execute_result"
    }
   ],
   "source": [
    "MLB = data_pipes.MLB_data_gather()\n",
    "MLB.main(years=range(2019)[-50:])"
   ]
  },
  {
   "cell_type": "code",
   "execution_count": null,
   "metadata": {},
   "outputs": [],
   "source": [
    "SELECT value as pitcher, field as WL ,COUNT(value) as losses \n",
    "FROM info \n",
    "WHERE field is \"wp\" OR field is \"lp\"\n",
    "GROUP BY value,field;"
   ]
  }
 ],
 "metadata": {
  "kernelspec": {
   "display_name": "Python 3",
   "language": "python",
   "name": "python3"
  },
  "language_info": {
   "codemirror_mode": {
    "name": "ipython",
    "version": 3
   },
   "file_extension": ".py",
   "mimetype": "text/x-python",
   "name": "python",
   "nbconvert_exporter": "python",
   "pygments_lexer": "ipython3",
   "version": "3.7.0"
  }
 },
 "nbformat": 4,
 "nbformat_minor": 2
}
