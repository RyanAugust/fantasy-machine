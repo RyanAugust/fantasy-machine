{
 "cells": [
  {
   "cell_type": "code",
   "execution_count": 1,
   "metadata": {},
   "outputs": [],
   "source": [
    "from draftfast import rules\n",
    "from draftfast.optimize import run, run_multi, OptimizerSettings, LineupConstraints\n",
    "from draftfast.orm import Player\n",
    "from draftfast.csv_parse import salary_download\n",
    "from draftfast.settings import Stack\n",
    "from draftfast.exposure import get_exposure_matrix, check_exposure, get_exposure_table"
   ]
  },
  {
   "cell_type": "code",
   "execution_count": 74,
   "metadata": {},
   "outputs": [],
   "source": [
    "def limit_all_exposure(player_pool, global_max, global_min=0):\n",
    "    exposure_list = []\n",
    "    for p in player_pool:\n",
    "        exposure_list.append({'name':p.name,'min':0,'max':global_max})\n",
    "    return exposure_list"
   ]
  },
  {
   "cell_type": "code",
   "execution_count": null,
   "metadata": {},
   "outputs": [],
   "source": [
    "limit_all_exposure"
   ]
  },
  {
   "cell_type": "code",
   "execution_count": 10,
   "metadata": {},
   "outputs": [
    {
     "name": "stdout",
     "output_type": "stream",
     "text": [
      "Optimal roster for: MLB\n",
      "+----------+------------------+------+---------+--------+-------------+----------+--------+\n",
      "| Position | Player           | Team | Matchup | Salary |  Projection | vs. Avg. | Locked |\n",
      "+----------+------------------+------+---------+--------+-------------+----------+--------+\n",
      "| P        | Tim Melville     | COL  | PIT@COL |  5,800 |        36.5 |     \u001b[0;31;40m0.00\u001b[0m |        |\n",
      "| C        | Ryan Lavarnway   | CIN  | CIN@MIA |  2,000 | 15.86000061 |     \u001b[0;31;40m0.00\u001b[0m |        |\n",
      "| 1B       | Pete Alonso      | NYM  | CHC@NYM |  4,100 | 12.96412251 |     \u001b[0;31;40m0.00\u001b[0m |        |\n",
      "| 2B       | Ketel Marte      | ARI  | LOS@ARI |  4,000 | 12.96746051 |     \u001b[0;31;40m0.00\u001b[0m |        |\n",
      "| 3B       | Eduardo Escobar  | ARI  | LOS@ARI |  3,700 | 12.24230769 |     \u001b[0;31;40m0.00\u001b[0m |        |\n",
      "| SS       | Trevor Story     | COL  | PIT@COL |  4,300 | 13.74166667 |     \u001b[0;31;40m0.00\u001b[0m |        |\n",
      "| OF       | Charlie Blackmon | COL  | PIT@COL |  4,400 | 13.40173871 |     \u001b[0;31;40m0.00\u001b[0m |        |\n",
      "| OF       | Aristides Aquino | CIN  | CIN@MIA |  4,100 | 16.28846154 |     \u001b[0;31;40m0.00\u001b[0m |        |\n",
      "| OF       | Sam Hilliard     | COL  | PIT@COL |  2,500 | 12.60000038 |     \u001b[0;31;40m0.00\u001b[0m |        |\n",
      "+----------+------------------+------+---------+--------+-------------+----------+--------+\n",
      "\n",
      "Projected Score: 146.57 \t Cost: $34,900\n",
      "Optimal roster for: MLB\n",
      "+----------+------------------+------+---------+--------+-------------+----------+--------+\n",
      "| Position | Player           | Team | Matchup | Salary |  Projection | vs. Avg. | Locked |\n",
      "+----------+------------------+------+---------+--------+-------------+----------+--------+\n",
      "| P        | Tim Melville     | COL  | PIT@COL |  5,800 |        36.5 |     \u001b[0;31;40m0.00\u001b[0m |        |\n",
      "| C        | Ryan Lavarnway   | CIN  | CIN@MIA |  2,000 | 15.86000061 |     \u001b[0;31;40m0.00\u001b[0m |        |\n",
      "| 1B       | Josh Bell        | PIT  | PIT@COL |  4,300 | 13.08217035 |     \u001b[0;31;40m0.00\u001b[0m |        |\n",
      "| 2B       | Jeff McNeil      | NYM  | CHC@NYM |  2,900 | 11.36788968 |     \u001b[0;31;40m0.00\u001b[0m |        |\n",
      "| 3B       | Eduardo Escobar  | ARI  | LOS@ARI |  3,700 | 12.24230769 |     \u001b[0;31;40m0.00\u001b[0m |        |\n",
      "| SS       | Trevor Story     | COL  | PIT@COL |  4,300 | 13.74166667 |     \u001b[0;31;40m0.00\u001b[0m |        |\n",
      "| OF       | Cody Bellinger   | LOS  | LOS@ARI |  4,600 | 14.64461576 |     \u001b[0;31;40m0.00\u001b[0m |        |\n",
      "| OF       | Aristides Aquino | CIN  | CIN@MIA |  4,100 | 16.28846154 |     \u001b[0;31;40m0.00\u001b[0m |        |\n",
      "| OF       | Sam Hilliard     | COL  | PIT@COL |  2,500 | 12.60000038 |     \u001b[0;31;40m0.00\u001b[0m |        |\n",
      "+----------+------------------+------+---------+--------+-------------+----------+--------+\n",
      "\n",
      "Projected Score: 146.33 \t Cost: $34,200\n",
      "Roster Exposure:\n",
      "+----------+------------------+------+---------+--------+-------------+-----------+-----+-----+\n",
      "| Position | Player           | Team | Matchup | Salary |  Projection | # Lineups | Min | Max |\n",
      "+----------+------------------+------+---------+--------+-------------+-----------+-----+-----+\n",
      "| P        | Tim Melville     | COL  | PIT@COL |  5,800 |        36.5 |         2 |     |     |\n",
      "| SS       | Trevor Story     | COL  | PIT@COL |  4,300 | 13.74166667 |         2 |     |     |\n",
      "| OF       | Aristides Aquino | CIN  | CIN@MIA |  4,100 | 16.28846154 |         2 |     |     |\n",
      "| 3B       | Eduardo Escobar  | ARI  | LOS@ARI |  3,700 | 12.24230769 |         2 |     |     |\n",
      "| OF       | Sam Hilliard     | COL  | PIT@COL |  2,500 | 12.60000038 |         2 |     |     |\n",
      "| C        | Ryan Lavarnway   | CIN  | CIN@MIA |  2,000 | 15.86000061 |         2 |     |     |\n",
      "| OF       | Charlie Blackmon | COL  | PIT@COL |  4,400 | 13.40173871 |         1 |     |     |\n",
      "| 1B       | Pete Alonso      | NYM  | CHC@NYM |  4,100 | 12.96412251 |         1 |     |     |\n",
      "| 2B       | Ketel Marte      | ARI  | LOS@ARI |  4,000 | 12.96746051 |         1 |     |     |\n",
      "| OF       | Cody Bellinger   | LOS  | LOS@ARI |  4,600 | 14.64461576 |         1 |     |     |\n",
      "| 1B       | Josh Bell        | PIT  | PIT@COL |  4,300 | 13.08217035 |         1 |     |     |\n",
      "| 2B       | Jeff McNeil      | NYM  | CHC@NYM |  2,900 | 11.36788968 |         1 |     |     |\n",
      "+----------+------------------+------+---------+--------+-------------+-----------+-----+-----+\n",
      "\n",
      "+--------------+-----------+--------------+-------------+------------+---------+-----------+----------+-----------+--------------+-------------+-------------+----------+\n",
      "|              | A. Aquino | C. Bellinger | C. Blackmon | E. Escobar | J. Bell | J. McNeil | K. Marte | P. Alonso | R. Lavarnway | S. Hilliard | T. Melville | T. Story |\n",
      "+--------------+-----------+--------------+-------------+------------+---------+-----------+----------+-----------+--------------+-------------+-------------+----------+\n",
      "| A. Aquino    |     2     |      1       |      1      |     2      |    1    |     1     |    1     |     1     |      2       |      2      |      2      |    2     |\n",
      "+--------------+-----------+--------------+-------------+------------+---------+-----------+----------+-----------+--------------+-------------+-------------+----------+\n",
      "| C. Bellinger |     1     |      1       |      0      |     1      |    1    |     1     |    0     |     0     |      1       |      1      |      1      |    1     |\n",
      "+--------------+-----------+--------------+-------------+------------+---------+-----------+----------+-----------+--------------+-------------+-------------+----------+\n",
      "| C. Blackmon  |     1     |      0       |      1      |     1      |    0    |     0     |    1     |     1     |      1       |      1      |      1      |    1     |\n",
      "+--------------+-----------+--------------+-------------+------------+---------+-----------+----------+-----------+--------------+-------------+-------------+----------+\n",
      "| E. Escobar   |     2     |      1       |      1      |     2      |    1    |     1     |    1     |     1     |      2       |      2      |      2      |    2     |\n",
      "+--------------+-----------+--------------+-------------+------------+---------+-----------+----------+-----------+--------------+-------------+-------------+----------+\n",
      "| J. Bell      |     1     |      1       |      0      |     1      |    1    |     1     |    0     |     0     |      1       |      1      |      1      |    1     |\n",
      "+--------------+-----------+--------------+-------------+------------+---------+-----------+----------+-----------+--------------+-------------+-------------+----------+\n",
      "| J. McNeil    |     1     |      1       |      0      |     1      |    1    |     1     |    0     |     0     |      1       |      1      |      1      |    1     |\n",
      "+--------------+-----------+--------------+-------------+------------+---------+-----------+----------+-----------+--------------+-------------+-------------+----------+\n",
      "| K. Marte     |     1     |      0       |      1      |     1      |    0    |     0     |    1     |     1     |      1       |      1      |      1      |    1     |\n",
      "+--------------+-----------+--------------+-------------+------------+---------+-----------+----------+-----------+--------------+-------------+-------------+----------+\n",
      "| P. Alonso    |     1     |      0       |      1      |     1      |    0    |     0     |    1     |     1     |      1       |      1      |      1      |    1     |\n",
      "+--------------+-----------+--------------+-------------+------------+---------+-----------+----------+-----------+--------------+-------------+-------------+----------+\n",
      "| R. Lavarnway |     2     |      1       |      1      |     2      |    1    |     1     |    1     |     1     |      2       |      2      |      2      |    2     |\n",
      "+--------------+-----------+--------------+-------------+------------+---------+-----------+----------+-----------+--------------+-------------+-------------+----------+\n",
      "| S. Hilliard  |     2     |      1       |      1      |     2      |    1    |     1     |    1     |     1     |      2       |      2      |      2      |    2     |\n",
      "+--------------+-----------+--------------+-------------+------------+---------+-----------+----------+-----------+--------------+-------------+-------------+----------+\n",
      "| T. Melville  |     2     |      1       |      1      |     2      |    1    |     1     |    1     |     1     |      2       |      2      |      2      |    2     |\n",
      "+--------------+-----------+--------------+-------------+------------+---------+-----------+----------+-----------+--------------+-------------+-------------+----------+\n",
      "| T. Story     |     2     |      1       |      1      |     2      |    1    |     1     |    1     |     1     |      2       |      2      |      2      |    2     |\n",
      "+--------------+-----------+--------------+-------------+------------+---------+-----------+----------+-----------+--------------+-------------+-------------+----------+\n",
      "\n"
     ]
    }
   ],
   "source": [
    "players = salary_download.generate_players_from_csvs(\n",
    "  salary_file_location='/Users/ryand/downloads/FanDuel_.csv',\n",
    "  game=rules.FAN_DUEL,\n",
    ")\n",
    "\n",
    "roster = run_multi(\n",
    "  iterations=2,\n",
    "  rule_set=rules.FD_MLB_RULE_SET,\n",
    "  player_pool=players,\n",
    "  verbose=True,\n",
    "#   exposure_bounds=limit_all_exposure(players, global_max=.5)\n",
    "\n",
    ")"
   ]
  },
  {
   "cell_type": "code",
   "execution_count": 6,
   "metadata": {},
   "outputs": [
    {
     "ename": "NameError",
     "evalue": "name 'roster' is not defined",
     "output_type": "error",
     "traceback": [
      "\u001b[0;31m---------------------------------------------------------------------------\u001b[0m",
      "\u001b[0;31mNameError\u001b[0m                                 Traceback (most recent call last)",
      "\u001b[0;32m<ipython-input-6-f7a6ec3e3e75>\u001b[0m in \u001b[0;36m<module>\u001b[0;34m\u001b[0m\n\u001b[0;32m----> 1\u001b[0;31m \u001b[0mprint\u001b[0m\u001b[0;34m(\u001b[0m\u001b[0mget_exposure_table\u001b[0m\u001b[0;34m(\u001b[0m\u001b[0mroster\u001b[0m\u001b[0;34m,\u001b[0m\u001b[0mlimit_all_exposure\u001b[0m\u001b[0;34m(\u001b[0m\u001b[0mplayers\u001b[0m\u001b[0;34m,\u001b[0m \u001b[0mglobal_max\u001b[0m\u001b[0;34m=\u001b[0m\u001b[0;36m.5\u001b[0m\u001b[0;34m)\u001b[0m\u001b[0;34m)\u001b[0m\u001b[0;34m)\u001b[0m\u001b[0;34m\u001b[0m\u001b[0m\n\u001b[0m",
      "\u001b[0;31mNameError\u001b[0m: name 'roster' is not defined"
     ]
    }
   ],
   "source": [
    "print(get_exposure_table(roster,limit_all_exposure(players, global_max=.5)))"
   ]
  },
  {
   "cell_type": "code",
   "execution_count": null,
   "metadata": {},
   "outputs": [],
   "source": []
  }
 ],
 "metadata": {
  "kernelspec": {
   "display_name": "draftfast",
   "language": "python",
   "name": "draftfast"
  },
  "language_info": {
   "codemirror_mode": {
    "name": "ipython",
    "version": 3
   },
   "file_extension": ".py",
   "mimetype": "text/x-python",
   "name": "python",
   "nbconvert_exporter": "python",
   "pygments_lexer": "ipython3",
   "version": "3.6.4"
  }
 },
 "nbformat": 4,
 "nbformat_minor": 2
}
