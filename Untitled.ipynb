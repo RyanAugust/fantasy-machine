{
 "cells": [
  {
   "cell_type": "code",
   "execution_count": 1,
   "metadata": {},
   "outputs": [],
   "source": [
    "import draftfast\n",
    "import pandas as pd"
   ]
  },
  {
   "cell_type": "code",
   "execution_count": 2,
   "metadata": {},
   "outputs": [],
   "source": [
    "df=pd.read_csv('full_old_NFL.csv')\n",
    "del df['Unnamed: 0']"
   ]
  },
  {
   "cell_type": "code",
   "execution_count": 3,
   "metadata": {},
   "outputs": [],
   "source": [
    "from draftfast import rules\n",
    "from draftfast.optimize import run, run_multi\n",
    "from draftfast.orm import Player\n",
    "from draftfast.csv_parse import salary_download"
   ]
  },
  {
   "cell_type": "code",
   "execution_count": 4,
   "metadata": {},
   "outputs": [],
   "source": [
    "df = df.dropna()"
   ]
  },
  {
   "cell_type": "code",
   "execution_count": 5,
   "metadata": {},
   "outputs": [],
   "source": [
    "# for year, week in zip(df['Year'], df['Week']):\n",
    "#     player_pool = []\n",
    "#     segment = df[(df['Year'] == year) & (df['Week'] == week)].as_matrix()\n",
    "#     for player in segment:\n",
    "#         player_pool.append(Player(name=player[3], cost=player[9], proj=player[8], pos=player[4],average_score=player[11], team=player[5], matchup=player[7].upper()))\n",
    "    \n",
    "#     roster = run(\n",
    "#     rule_set=rules.FD_NFL_RULE_SET,\n",
    "#     player_pool=player_pool,\n",
    "#     verbose=False,\n",
    "#     )"
   ]
  },
  {
   "cell_type": "code",
   "execution_count": 6,
   "metadata": {},
   "outputs": [],
   "source": [
    "df['Pos'].replace('Def','D', inplace=True)\n",
    "df['Pos'].replace('PK','K', inplace=True)"
   ]
  },
  {
   "cell_type": "code",
   "execution_count": 25,
   "metadata": {},
   "outputs": [],
   "source": [
    "def optimal_count_from_segment(segment):\n",
    "    player_pool = []\n",
    "    for player in segment.as_matrix():\n",
    "        player_pool.append(Player(name=player[3], cost=player[9], proj=player[8], pos=player[4],average_score=player[11], team=player[5], matchup=player[7]))\n",
    "\n",
    "    counted_list = count_list(get_optimal_roster_list(player_pool))\n",
    "    counted_df = pd.DataFrame(counted_list, index=['count']).T.reset_index()\n",
    "    counted_df.rename(columns={'index':'Name'}, inplace=True)\n",
    "\n",
    "    segment_ = segment.merge(counted_df,\n",
    "                             how='left', on ='Name')\n",
    "    segment_['count'].fillna(0, inplace=True)\n",
    "    return segment_"
   ]
  },
  {
   "cell_type": "code",
   "execution_count": 26,
   "metadata": {},
   "outputs": [],
   "source": [
    "def get_optimal_roster_list(player_pool):\n",
    "    rosters = run_multi(\n",
    "        iterations=10,\n",
    "        rule_set=rules.FD_NFL_RULE_SET,\n",
    "        player_pool=player_pool,\n",
    "        verbose=False,\n",
    "        )\n",
    "    players = []\n",
    "    for roster in rosters[0]:\n",
    "        players += roster.players\n",
    "    p_names = [p.name for p in players]\n",
    "    return p_names"
   ]
  },
  {
   "cell_type": "code",
   "execution_count": 27,
   "metadata": {},
   "outputs": [],
   "source": [
    "def count_list(list_):\n",
    "    counted_list = {}\n",
    "    for item in list_:\n",
    "        if item in counted_list.keys():\n",
    "            counted_list[item] += 1\n",
    "        else:\n",
    "            counted_list[item] = 1\n",
    "    return counted_list"
   ]
  },
  {
   "cell_type": "code",
   "execution_count": 28,
   "metadata": {},
   "outputs": [
    {
     "name": "stderr",
     "output_type": "stream",
     "text": [
      "/Users/ryand/envs/draftfast/lib/python3.6/site-packages/ipykernel_launcher.py:2: FutureWarning: Method .as_matrix will be removed in a future version. Use .values instead.\n",
      "  \n",
      "/Users/ryand/envs/draftfast/lib/python3.6/site-packages/ipykernel_launcher.py:3: FutureWarning: Method .as_matrix will be removed in a future version. Use .values instead.\n",
      "  This is separate from the ipykernel package so we can avoid doing imports until\n"
     ]
    },
    {
     "name": "stdout",
     "output_type": "stream",
     "text": [
      "2011 1\n",
      "2011 2\n",
      "2011 3\n",
      "2011 4\n",
      "2011 5\n",
      "2011 6\n",
      "2011 7\n",
      "2011 8\n",
      "2011 9\n",
      "2011 10\n",
      "2011 11\n",
      "2011 12\n",
      "2011 13\n",
      "2011 14\n",
      "2011 15\n",
      "2011 16\n",
      "2011 17\n",
      "2012 1\n",
      "2012 2\n",
      "2012 3\n",
      "2012 4\n",
      "2012 5\n",
      "2012 6\n",
      "2012 7\n",
      "2012 8\n",
      "2012 9\n",
      "2012 10\n",
      "2012 11\n",
      "2012 12\n",
      "2012 13\n",
      "2012 14\n",
      "2012 15\n",
      "2012 16\n",
      "2012 17\n",
      "2013 1\n",
      "2013 2\n",
      "2013 3\n",
      "2013 4\n",
      "2013 5\n",
      "2013 6\n",
      "2013 7\n",
      "2013 8\n",
      "2013 9\n",
      "2013 10\n",
      "2013 11\n",
      "2013 12\n",
      "2013 13\n",
      "2013 14\n",
      "2013 15\n",
      "2013 16\n",
      "2013 17\n",
      "2014 1\n",
      "2014 2\n",
      "2014 3\n",
      "2014 4\n",
      "2014 5\n",
      "2014 6\n",
      "2014 7\n",
      "2014 8\n",
      "2014 9\n",
      "2014 10\n",
      "2014 11\n",
      "2014 12\n",
      "2014 13\n",
      "2014 14\n",
      "2014 15\n",
      "2014 16\n",
      "2014 17\n",
      "2015 1\n",
      "2015 2\n",
      "2015 3\n",
      "2015 4\n",
      "2015 5\n",
      "2015 6\n",
      "2015 7\n",
      "2015 8\n",
      "2015 9\n",
      "2015 10\n",
      "2015 11\n",
      "2015 12\n",
      "2015 13\n",
      "2015 14\n",
      "2015 15\n",
      "2015 16\n",
      "2015 17\n",
      "2016 1\n",
      "2016 2\n",
      "2016 3\n",
      "2016 4\n",
      "2016 5\n",
      "2016 6\n",
      "2016 7\n",
      "2016 8\n",
      "2016 9\n",
      "2016 10\n",
      "2016 11\n",
      "2016 12\n",
      "2016 13\n",
      "2016 14\n",
      "2016 15\n",
      "2016 16\n",
      "2016 17\n",
      "2017 1\n",
      "2017 2\n",
      "2017 3\n",
      "2017 4\n",
      "2017 5\n",
      "2017 6\n",
      "2017 7\n",
      "2017 8\n",
      "2017 9\n",
      "2017 10\n",
      "2017 11\n",
      "2017 12\n",
      "2017 13\n",
      "2017 14\n",
      "2017 15\n",
      "2017 16\n",
      "2017 17\n",
      "2018 1\n",
      "2018 2\n",
      "2018 3\n",
      "2018 4\n",
      "2018 5\n",
      "2018 6\n",
      "2018 7\n",
      "2018 8\n",
      "2018 9\n",
      "2018 10\n",
      "2018 11\n",
      "2018 12\n",
      "2018 13\n",
      "2018 14\n",
      "2018 15\n",
      "2018 16\n",
      "2018 17\n"
     ]
    }
   ],
   "source": [
    "incidence_df = pd.DataFrame()\n",
    "for year, week in zip(df.groupby(['Year','Week']).sum()[[]].reset_index().as_matrix().T[0],df.groupby(['Year','Week']).sum()[[]].reset_index().as_matrix().T[1]):\n",
    "    segment = df[(df['Year'] == year) & (df['Week'] == week) & (df['Pos'] != 'K')]\n",
    "    new_segment = optimal_count_from_segment(segment)\n",
    "    incidence_df = incidence_df.append(new_segment)"
   ]
  },
  {
   "cell_type": "code",
   "execution_count": 36,
   "metadata": {},
   "outputs": [],
   "source": [
    "incidence_df.to_csv('old_NFL_with_count.csv')#.groupby(['Name','Pos']).agg({'FD salary':'mean','count':'sum'}).sort_values('count').plot(kind='scatter',x='FD salary',y='count')"
   ]
  },
  {
   "cell_type": "code",
   "execution_count": null,
   "metadata": {},
   "outputs": [],
   "source": []
  }
 ],
 "metadata": {
  "kernelspec": {
   "display_name": "draftfast",
   "language": "python",
   "name": "draftfast"
  },
  "language_info": {
   "codemirror_mode": {
    "name": "ipython",
    "version": 3
   },
   "file_extension": ".py",
   "mimetype": "text/x-python",
   "name": "python",
   "nbconvert_exporter": "python",
   "pygments_lexer": "ipython3",
   "version": "3.6.4"
  }
 },
 "nbformat": 4,
 "nbformat_minor": 2
}
