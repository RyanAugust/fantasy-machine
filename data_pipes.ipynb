{
 "cells": [
  {
   "cell_type": "markdown",
   "metadata": {},
   "source": [
    "# MLB\n",
    "____"
   ]
  },
  {
   "cell_type": "markdown",
   "metadata": {},
   "source": [
    "##  Past\n",
    "* Retrosheet Datafiles: https://www.retrosheet.org/game.htm\n",
    "* Retrosheet Docs: https://www.retrosheet.org/eventfile.htm\n",
    "\n",
    "We'll be using eventfiles and parsing into a database"
   ]
  },
  {
   "cell_type": "code",
   "execution_count": 5,
   "metadata": {},
   "outputs": [],
   "source": [
    "import os\n",
    "user = os.environ['USER']"
   ]
  },
  {
   "cell_type": "code",
   "execution_count": 16,
   "metadata": {},
   "outputs": [],
   "source": [
    "data_path = os.getcwd() + \"/data/MLB_eventfiles\""
   ]
  },
  {
   "cell_type": "code",
   "execution_count": 14,
   "metadata": {},
   "outputs": [],
   "source": [
    "import requests, zipfile, io\n",
    "\n",
    "def get_year(year, data_path=data_path):\n",
    "    zip_file_url = \"https://www.retrosheet.org/events/{}eve.zip\".format(year)\n",
    "    r = requests.get(zip_file_url, data_path)\n",
    "    z = zipfile.ZipFile(io.BytesIO(r.content))\n",
    "    z.extractall(data_path)"
   ]
  },
  {
   "cell_type": "code",
   "execution_count": 15,
   "metadata": {},
   "outputs": [],
   "source": [
    "get_year(year='2017')"
   ]
  },
  {
   "cell_type": "code",
   "execution_count": 48,
   "metadata": {},
   "outputs": [],
   "source": [
    "def get_team(team_abr, data_path=data_path):\n",
    "    for a,b,c in os.walk(data_path):\n",
    "        for eventfile in c:\n",
    "            if '.EV' in eventfile:\n",
    "                if team_abr in eventfile:\n",
    "                    with open(data_path + '/' + eventfile, 'r') as f:\n",
    "                        data = f.read()\n",
    "                        return data"
   ]
  },
  {
   "cell_type": "code",
   "execution_count": 50,
   "metadata": {},
   "outputs": [],
   "source": [
    "payload = get_team(team_abr='OAK')"
   ]
  },
  {
   "cell_type": "code",
   "execution_count": null,
   "metadata": {},
   "outputs": [],
   "source": []
  }
 ],
 "metadata": {
  "kernelspec": {
   "display_name": "Projects",
   "language": "python",
   "name": "projects"
  },
  "language_info": {
   "codemirror_mode": {
    "name": "ipython",
    "version": 2
   },
   "file_extension": ".py",
   "mimetype": "text/x-python",
   "name": "python",
   "nbconvert_exporter": "python",
   "pygments_lexer": "ipython2",
   "version": "2.7.15"
  }
 },
 "nbformat": 4,
 "nbformat_minor": 2
}
