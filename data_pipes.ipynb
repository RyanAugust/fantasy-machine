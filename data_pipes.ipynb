{
 "cells": [
  {
   "cell_type": "markdown",
   "metadata": {},
   "source": [
    "# MLB\n",
    "____"
   ]
  },
  {
   "cell_type": "markdown",
   "metadata": {},
   "source": [
    "##  Past\n",
    "* Retrosheet Datafiles: https://www.retrosheet.org/game.htm\n",
    "* Retrosheet Docs: https://www.retrosheet.org/eventfile.htm\n",
    "\n",
    "We'll be using eventfiles and parsing into a database"
   ]
  },
  {
   "cell_type": "code",
   "execution_count": 1,
   "metadata": {},
   "outputs": [],
   "source": [
    "import os\n",
    "import requests, zipfile, io\n",
    "import pandas as pd\n",
    "import sqlite3\n",
    "\n",
    "import data_pipes\n",
    "from config import mlb_data_path, mlb_db_path"
   ]
  },
  {
   "cell_type": "code",
   "execution_count": null,
   "metadata": {},
   "outputs": [
    {
     "name": "stdout",
     "output_type": "stream",
     "text": [
      "2009 Complete\n",
      "2010 Complete\n",
      "2011 Complete\n",
      "2012 Complete\n",
      "2013 Complete\n",
      "2014 Complete\n"
     ]
    }
   ],
   "source": [
    "MLB = data_pipes.MLB_data_gather()\n",
    "for year in range(2019)[-10:]:\n",
    "    MLB.run_year(year=year)"
   ]
  },
  {
   "cell_type": "code",
   "execution_count": null,
   "metadata": {},
   "outputs": [],
   "source": [
    "SELECT value as pitcher, field as WL ,COUNT(value) as losses \n",
    "FROM info \n",
    "WHERE field is \"wp\" OR field is \"lp\"\n",
    "GROUP BY value,field;"
   ]
  }
 ],
 "metadata": {
  "kernelspec": {
   "display_name": "Projects",
   "language": "python",
   "name": "projects"
  },
  "language_info": {
   "codemirror_mode": {
    "name": "ipython",
    "version": 2
   },
   "file_extension": ".py",
   "mimetype": "text/x-python",
   "name": "python",
   "nbconvert_exporter": "python",
   "pygments_lexer": "ipython2",
   "version": "2.7.15"
  }
 },
 "nbformat": 4,
 "nbformat_minor": 2
}
