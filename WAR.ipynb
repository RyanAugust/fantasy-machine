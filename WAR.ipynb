{
 "cells": [
  {
   "cell_type": "markdown",
   "metadata": {},
   "source": [
    "# Position Player fWAR\n",
    "___\n",
    "\n",
    "           {    (Batting Runs + Base Running Runs + Fielding Runs +        }\n",
    "    fWAR = {  Positional Adjustment + League Adjustment +Replacement Runs) }\n",
    "           {                      / (Runs Per Win)                         }\n"
   ]
  },
  {
   "cell_type": "markdown",
   "metadata": {},
   "source": [
    "## Dynamic inputs"
   ]
  },
  {
   "cell_type": "code",
   "execution_count": 1,
   "metadata": {},
   "outputs": [],
   "source": [
    "import pandas as pd\n",
    "import numpy as np\n",
    "import sqlite3\n",
    "import fantasy_machine\n",
    "\n",
    "import matplotlib.pyplot as plt\n",
    "%matplotlib inline"
   ]
  },
  {
   "cell_type": "code",
   "execution_count": 2,
   "metadata": {},
   "outputs": [],
   "source": [
    "con = sqlite3.connect(fantasy_machine.config.mlb_db_path)\n",
    "\n",
    "# df = pd.read_sql_query(\"\"\"SELECT * \n",
    "#                        FROM {} \n",
    "#                        WHERE (gameid like '%OAK%' OR vteam='OAK')\n",
    "#                        \"\"\".format('bevent'),\n",
    "#                        con=con)\n",
    "df = pd.read_sql_query(\"\"\"SELECT * \n",
    "                       FROM {}\n",
    "                       WHERE gameid like '%2018%'\n",
    "                       \"\"\".format('bevent'),\n",
    "                       con=con)\n",
    "\n",
    "play_defs = {\n",
    "     0:'Unknown event',\n",
    "     1:'No event',\n",
    "     2:'Generic out',\n",
    "     3:'Strikeout',\n",
    "     4:'Stolen base',\n",
    "     5:'Defensive indifference',\n",
    "     6:'Caught stealing',\n",
    "     7:'Pickoff error',\n",
    "     8:'Pickoff',\n",
    "     9:'Wild pitch',\n",
    "     10:'Passed ball',\n",
    "     11:'Balk',\n",
    "     12:'Other advance',\n",
    "     13:'Foul error',\n",
    "     14:'Walk',\n",
    "     15:'Intentional walk',\n",
    "     16:'Hit by pitch',\n",
    "     17:'Interference',\n",
    "     18:'Error',\n",
    "     19:'Fielders choice',\n",
    "     20:'Single',\n",
    "     21:'Double',\n",
    "     22:'Triple',\n",
    "     23:'Home run',\n",
    "     24:'Missing play'}"
   ]
  },
  {
   "cell_type": "markdown",
   "metadata": {},
   "source": [
    "## Batting Runs\n",
    "___\n",
    "    player’s:\n",
    "        wOBA\n",
    "        PA\n",
    "        home park factor \n",
    "    League: \n",
    "        Average wOBA (lgwOBA)\n",
    "        the wOBA Scale\n",
    "        MLB R/PA (lgR/PA)\n",
    "        Specific league (AL or NL) wRC and PA for non-pitchers\n",
    "___\n",
    "    >> wRAA = ((wOBA – lgwOBA)/wOBA Scale) * PA\n",
    "    >>> Batting Runs = wRAA + (lgR/PA – (PF*lgR/PA))*PA + (lgR/PA – (AL or NL non-pitcher wRC/PA))*PA"
   ]
  },
  {
   "cell_type": "code",
   "execution_count": 3,
   "metadata": {},
   "outputs": [],
   "source": [
    "calc = fantasy_machine.model.metric_calculator(data=df)"
   ]
  },
  {
   "cell_type": "code",
   "execution_count": 4,
   "metadata": {},
   "outputs": [],
   "source": [
    "df['year'] = df['gameid'].apply(lambda x: int(x[3:7]))"
   ]
  },
  {
   "cell_type": "markdown",
   "metadata": {},
   "source": [
    "### BATTER"
   ]
  },
  {
   "cell_type": "code",
   "execution_count": 65,
   "metadata": {},
   "outputs": [],
   "source": [
    "team_id = 'ANA'\n",
    "\n",
    "team = list(set(\n",
    "    list(set(df[(df['year'] == 2018) & (df['gameid'].str.contains(team_id)) & (df['battingteam'] == 1)]['batter'])) + \n",
    "    list(set(df[(df['year'] == 2018) & (df['vteam']==team_id) & (df['battingteam'] == 0)]['batter']))\n",
    "))"
   ]
  },
  {
   "cell_type": "code",
   "execution_count": 66,
   "metadata": {},
   "outputs": [
    {
     "name": "stdout",
     "output_type": "stream",
     "text": [
      "penaf002:\t0.0\n",
      "pujoa001:\t0.299432323232\n",
      "hermm001:\t0.269177419355\n",
      "calhk001:\t0.283316939891\n",
      "blasj001:\t0.163044444444\n",
      "gratj001:\t0.272222222222\n",
      "wardt002:\t0.255081632653\n",
      "mcgud001:\t0.293333333333\n",
      "valbl001:\t0.252849122807\n",
      "troum001:\t0.446699312715\n",
      "bricj001:\t0.299913385827\n",
      "maldm001:\t0.274982587065\n",
      "youne003:\t0.241324786325\n",
      "hudsj002:\t0.17725\n",
      "younc004:\t0.268409448819\n",
      "barrj003:\t0.0\n",
      "johns002:\t0.0654545454545\n",
      "cowak001:\t0.203532258065\n",
      "arcif001:\t0.276896226415\n",
      "kinsi001:\t0.29793258427\n",
      "ohtas001:\t0.389711538462\n",
      "despo001:\t0.176\n",
      "fontn001:\t0.22675\n",
      "uptoj001:\t0.34814379085\n",
      "heana001:\t0.11\n",
      "schir001:\t0.487285714286\n",
      "simma001:\t0.326001675042\n",
      "martj007:\t0.280832535885\n",
      "river003:\t0.298373626374\n",
      "cozaz001:\t0.289296442688\n",
      "fernj004:\t0.303886178862\n",
      "fletd002:\t0.297049342105\n"
     ]
    }
   ],
   "source": [
    "for player_id in team:\n",
    "    print('{}:\\t{}'.format(player_id, calc.calculate(player_ids=[player_id], metric='wOBA')))"
   ]
  },
  {
   "cell_type": "code",
   "execution_count": 71,
   "metadata": {},
   "outputs": [],
   "source": [
    "player_ids = df['batter'].tolist()"
   ]
  },
  {
   "cell_type": "code",
   "execution_count": null,
   "metadata": {},
   "outputs": [
    {
     "name": "stderr",
     "output_type": "stream",
     "text": [
      "fantasy_machine/model/baseball_stats.py:124: RuntimeWarning: invalid value encountered in double_scalars\n",
      "  value = (b1+(b2*2)+(b3*3)+(hr*4))/ab\n",
      "fantasy_machine/model/baseball_stats.py:100: RuntimeWarning: invalid value encountered in double_scalars\n",
      "  (ab+bb-ibb+sf+hbp))\n"
     ]
    }
   ],
   "source": [
    "p_stats = {}\n",
    "# for player_id in team:\n",
    "for player_id in player_ids:\n",
    "    p_stats.update({player_id:[calc.calculate(player_ids=[player_id], metric='BA'),\n",
    "                calc.calculate(player_ids=[player_id], metric='SLG'),\n",
    "                calc.calculate(player_ids=[player_id], metric='wOBA'),\n",
    "                calc.calculate(player_ids=[player_id], metric='wRAA')]})"
   ]
  },
  {
   "cell_type": "code",
   "execution_count": 75,
   "metadata": {},
   "outputs": [
    {
     "data": {
      "text/plain": [
       "<matplotlib.axes._subplots.AxesSubplot at 0x13c61dd90>"
      ]
     },
     "execution_count": 75,
     "metadata": {},
     "output_type": "execute_result"
    },
    {
     "data": {
      "image/png": "[encoded data removed]",
      "text/plain": [
       "<Figure size 432x288 with 1 Axes>"
      ]
     },
     "metadata": {
      "needs_background": "light"
     },
     "output_type": "display_data"
    }
   ],
   "source": [
    "pd.DataFrame.from_dict(p_stats,\n",
    "                       orient='index',\n",
    "                       columns=['BA','SLG','wOBA','wRAA']).plot(kind='scatter',\n",
    "                                                         x='wOBA',\n",
    "                                                         y='wRAA')"
   ]
  },
  {
   "cell_type": "markdown",
   "metadata": {},
   "source": [
    "### PITCHER"
   ]
  },
  {
   "cell_type": "code",
   "execution_count": 62,
   "metadata": {},
   "outputs": [],
   "source": [
    "team_id = 'SFN'\n",
    "\n",
    "team = list(set(\n",
    "    list(set(df[(df['year'] == 2018) & (df['gameid'].str.contains(team_id)) & (df['battingteam'] == 0)]['pitcher'])) + \n",
    "    list(set(df[(df['year'] == 2018) & (df['vteam']==team_id) & (df['battingteam'] == 1)]['pitcher']))\n",
    "))"
   ]
  },
  {
   "cell_type": "code",
   "execution_count": 64,
   "metadata": {},
   "outputs": [
    {
     "name": "stdout",
     "output_type": "stream",
     "text": [
      "blacr001:\t3.97528571429\n",
      "beedt001:\t4.33491304348\n",
      "gomer002:\t2.08957142857\n",
      "okers001:\t2.75190909091\n",
      "strih001:\t4.286\n",
      "rodrd001:\t3.68494366197\n",
      "holld003:\t3.76800389105\n",
      "moror001:\t3.05330769231\n",
      "johnp001:\t4.44344274809\n",
      "smitw002:\t1.84024528302\n",
      "melam001:\t3.23792307692\n",
      "law-d001:\t5.336\n",
      "valdj003:\t9.961\n",
      "samaj001:\t5.37741791045\n",
      "strac001:\t4.45755172414\n",
      "dysos001:\t3.43114218009\n",
      "kellc001:\t4.09057746479\n",
      "bumgm001:\t3.92449614396\n",
      "osicj001:\t5.911\n",
      "sneld001:\t9.39176923077\n",
      "cuetj001:\t4.70816981132\n",
      "sandp001:\t3.161\n",
      "blact002:\t3.73403370787\n",
      "darnc001:\t3.161\n",
      "suara002:\t4.28366112266\n",
      "gearc001:\t4.2598372093\n",
      "watst001:\t2.31251515152\n"
     ]
    }
   ],
   "source": [
    "for player_id in team:\n",
    "    print('{}:\\t{}'.format(player_id, calc.calculate(player_ids=[player_id], metric='FIP')))"
   ]
  },
  {
   "cell_type": "code",
   "execution_count": 52,
   "metadata": {},
   "outputs": [],
   "source": [
    "p_stats = {}\n",
    "for player_id in team:\n",
    "    p_stats.update({player_id:[calc.calculate(player_ids=[player_id], metric='IP'),\n",
    "                calc.calculate(player_ids=[player_id], metric='FIP'),\n",
    "                calc.calculate(player_ids=[player_id], metric='WHIP')]})"
   ]
  },
  {
   "cell_type": "code",
   "execution_count": 61,
   "metadata": {},
   "outputs": [
    {
     "data": {
      "text/plain": [
       "<matplotlib.axes._subplots.AxesSubplot at 0x13c34ffd0>"
      ]
     },
     "execution_count": 61,
     "metadata": {},
     "output_type": "execute_result"
    },
    {
     "data": {
      "image/png": "[encoded data removed]",
      "text/plain": [
       "<Figure size 432x288 with 1 Axes>"
      ]
     },
     "metadata": {
      "needs_background": "light"
     },
     "output_type": "display_data"
    }
   ],
   "source": [
    "pd.DataFrame.from_dict(p_stats,\n",
    "                       orient='index',\n",
    "                       columns=['IP','FIP','WHIP']).plot(kind='scatter',\n",
    "                                                         x='WHIP',\n",
    "                                                         y='FIP')"
   ]
  },
  {
   "cell_type": "code",
   "execution_count": null,
   "metadata": {},
   "outputs": [],
   "source": []
  }
 ],
 "metadata": {
  "kernelspec": {
   "display_name": "Python 3",
   "language": "python",
   "name": "python3"
  },
  "language_info": {
   "codemirror_mode": {
    "name": "ipython",
    "version": 3
   },
   "file_extension": ".py",
   "mimetype": "text/x-python",
   "name": "python",
   "nbconvert_exporter": "python",
   "pygments_lexer": "ipython3",
   "version": "3.6.4"
  }
 },
 "nbformat": 4,
 "nbformat_minor": 2
}
