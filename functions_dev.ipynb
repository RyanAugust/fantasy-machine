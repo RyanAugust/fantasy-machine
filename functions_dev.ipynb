{
 "cells": [
  {
   "cell_type": "code",
   "execution_count": 1,
   "metadata": {},
   "outputs": [],
   "source": [
    "import requests\n",
    "from bs4 import BeautifulSoup\n",
    "from lxml import html\n",
    "from lxml import etree"
   ]
  },
  {
   "cell_type": "code",
   "execution_count": 153,
   "metadata": {},
   "outputs": [],
   "source": [
    "url = 'https://www.rotowire.com/baseball/daily_lineups.htm'\n",
    "page = requests.get(url)"
   ]
  },
  {
   "cell_type": "code",
   "execution_count": 154,
   "metadata": {},
   "outputs": [],
   "source": [
    "tree = html.fromstring(page.content)"
   ]
  },
  {
   "cell_type": "markdown",
   "metadata": {},
   "source": [
    "# Scraping\n",
    "___\n",
    "## Get boxes"
   ]
  },
  {
   "cell_type": "code",
   "execution_count": null,
   "metadata": {},
   "outputs": [],
   "source": [
    "class daily_lineups(object):\n",
    "    def __init__(self):\n",
    "        self.lineup_url = 'https://www.rotowire.com/baseball/daily_lineups.htm'\n",
    "        self.page = requests.get(self.lineup_url)\n",
    "        self.tree = html.fromstring(self.page.content)\n",
    "        self.info_locations = {'team':\"//div[@class='lineup is-mlb'][{}]/div[2]/div/div/div[{}]/div\",\n",
    "                               'pitchers':\"//div[@class='lineup is-mlb'][{}]/div[2]/div[2]/ul[{}]/li[0]/div\",\n",
    "                               'players':\"//div[@class='lineup is-mlb'][{}]/div[2]/div[2]/ul[{}]/li/a\"}\n",
    "    def main(self):\n",
    "        games_today = len(self.tree.xpath(\"//div[@class='lineup is-mlb']\"))\n",
    "        for game_num in range(games_today):\n",
    "            \n",
    "\n",
    "    def get_team(self, team_scrape):\n",
    "        team_scrape.text\n",
    "        return team\n",
    "    def get_pitcher(self, pitcher_scrape):\n",
    "        pitcher pitcher_scrape.text\n",
    "        return pitcher\n",
    "    def get_players(self, players_scrape):\n",
    "        player_list = []\n",
    "        for player in players_scrape:\n",
    "            player_list.append(player.attrib['title'])\n",
    "        return player_list"
   ]
  }
 ],
 "metadata": {
  "kernelspec": {
   "display_name": "Python 3",
   "language": "python",
   "name": "python3"
  },
  "language_info": {
   "codemirror_mode": {
    "name": "ipython",
    "version": 3
   },
   "file_extension": ".py",
   "mimetype": "text/x-python",
   "name": "python",
   "nbconvert_exporter": "python",
   "pygments_lexer": "ipython3",
   "version": "3.7.2"
  }
 },
 "nbformat": 4,
 "nbformat_minor": 2
}
