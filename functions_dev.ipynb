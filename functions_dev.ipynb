{
 "cells": [
  {
   "cell_type": "code",
   "execution_count": 1,
   "metadata": {},
   "outputs": [],
   "source": [
    "import requests\n",
    "from bs4 import BeautifulSoup"
   ]
  },
  {
   "cell_type": "code",
   "execution_count": 2,
   "metadata": {},
   "outputs": [],
   "source": [
    "url = 'https://www.rotowire.com/baseball/daily_lineups.htm'\n",
    "r = requests.get(url)"
   ]
  },
  {
   "cell_type": "code",
   "execution_count": 8,
   "metadata": {},
   "outputs": [
    {
     "ename": "AttributeError",
     "evalue": "'Response' object has no attribute 'read'",
     "output_type": "error",
     "traceback": [
      "\u001b[0;31m---------------------------------------------------------------------------\u001b[0m",
      "\u001b[0;31mAttributeError\u001b[0m                            Traceback (most recent call last)",
      "\u001b[0;32m<ipython-input-8-e9686fd0670b>\u001b[0m in \u001b[0;36m<module>\u001b[0;34m()\u001b[0m\n\u001b[0;32m----> 1\u001b[0;31m \u001b[0mthe_page\u001b[0m \u001b[0;34m=\u001b[0m \u001b[0mr\u001b[0m\u001b[0;34m.\u001b[0m\u001b[0mread\u001b[0m\u001b[0;34m(\u001b[0m\u001b[0;34m)\u001b[0m\u001b[0;34m\u001b[0m\u001b[0m\n\u001b[0m\u001b[1;32m      2\u001b[0m \u001b[0mhtml\u001b[0m \u001b[0;34m=\u001b[0m \u001b[0mBeautifulSoup\u001b[0m\u001b[0;34m(\u001b[0m\u001b[0mthe_page\u001b[0m\u001b[0;34m)\u001b[0m\u001b[0;34m\u001b[0m\u001b[0m\n",
      "\u001b[0;31mAttributeError\u001b[0m: 'Response' object has no attribute 'read'"
     ]
    }
   ],
   "source": [
    "the_page = r.read()\n",
    "html = BeautifulSoup(the_page)"
   ]
  },
  {
   "cell_type": "code",
   "execution_count": 7,
   "metadata": {},
   "outputs": [
    {
     "ename": "AttributeError",
     "evalue": "'str' object has no attribute 'xpath'",
     "output_type": "error",
     "traceback": [
      "\u001b[0;31m---------------------------------------------------------------------------\u001b[0m",
      "\u001b[0;31mAttributeError\u001b[0m                            Traceback (most recent call last)",
      "\u001b[0;32m<ipython-input-7-d5831e2aebf0>\u001b[0m in \u001b[0;36m<module>\u001b[0;34m()\u001b[0m\n\u001b[0;32m----> 1\u001b[0;31m \u001b[0mel\u001b[0m \u001b[0;34m=\u001b[0m \u001b[0mhtml\u001b[0m\u001b[0;34m.\u001b[0m\u001b[0mxpath\u001b[0m\u001b[0;34m(\u001b[0m\u001b[0;34m\"//div[@class='span15 dlineups-mainbar']\"\u001b[0m\u001b[0;34m)\u001b[0m\u001b[0;34m\u001b[0m\u001b[0m\n\u001b[0m\u001b[1;32m      2\u001b[0m \u001b[0;32mprint\u001b[0m\u001b[0;34m(\u001b[0m\u001b[0mlen\u001b[0m\u001b[0;34m(\u001b[0m\u001b[0mel\u001b[0m\u001b[0;34m)\u001b[0m\u001b[0;34m)\u001b[0m\u001b[0;34m\u001b[0m\u001b[0m\n\u001b[1;32m      3\u001b[0m \u001b[0;32mfor\u001b[0m \u001b[0mbox\u001b[0m \u001b[0;32min\u001b[0m \u001b[0mel\u001b[0m\u001b[0;34m:\u001b[0m\u001b[0;34m\u001b[0m\u001b[0m\n\u001b[1;32m      4\u001b[0m     \u001b[0;32mprint\u001b[0m\u001b[0;34m(\u001b[0m\u001b[0mbox\u001b[0m\u001b[0;34m.\u001b[0m\u001b[0mfindall\u001b[0m\u001b[0;34m(\u001b[0m\u001b[0;34m\"div[@class='dlineups-mainbar-away']\"\u001b[0m\u001b[0;34m)\u001b[0m\u001b[0;34m[\u001b[0m\u001b[0;36m0\u001b[0m\u001b[0;34m]\u001b[0m\u001b[0;34m.\u001b[0m\u001b[0mfind\u001b[0m\u001b[0;34m(\u001b[0m\u001b[0;34m'a'\u001b[0m\u001b[0;34m)\u001b[0m\u001b[0;34m.\u001b[0m\u001b[0mtext\u001b[0m\u001b[0;34m)\u001b[0m\u001b[0;34m\u001b[0m\u001b[0m\n\u001b[1;32m      5\u001b[0m \u001b[0;34m\u001b[0m\u001b[0m\n",
      "\u001b[0;31mAttributeError\u001b[0m: 'str' object has no attribute 'xpath'"
     ]
    }
   ],
   "source": [
    "el = html.xpath(\"//div[@class='span15 dlineups-mainbar']\")\n",
    "print(len(el))\n",
    "for box in el:\n",
    "    print(box.findall(\"div[@class='dlineups-mainbar-away']\")[0].find('a').text)\n",
    "    "
   ]
  },
  {
   "cell_type": "code",
   "execution_count": 106,
   "metadata": {},
   "outputs": [
    {
     "name": "stdout",
     "output_type": "stream",
     "text": [
      "{'href': '/baseball/player.htm?id=10999', 'title': 'DJ LeMahieu'}\n",
      "{'href': '/baseball/player.htm?id=10554', 'title': 'Charlie Blackmon'}\n",
      "{'href': '/baseball/player.htm?id=11018', 'title': 'Nolan Arenado'}\n",
      "{'href': '/baseball/player.htm?id=9266', 'title': 'Carlos Gonzalez'}\n",
      "{'href': '/baseball/player.htm?id=12184', 'title': 'Trevor Story'}\n",
      "{'href': '/baseball/player.htm?id=13776', 'title': 'Mike Tauchman'}\n",
      "{'href': '/baseball/player.htm?id=13013', 'title': 'Ryan McMahon'}\n",
      "{'href': '/baseball/player.htm?id=11533', 'title': 'Tony Wolters'}\n",
      "{'href': '/baseball/player.htm?id=12142', 'title': 'Tyler Anderson'}\n"
     ]
    }
   ],
   "source": [
    "for c in el[0].findall('div'):\n",
    "    for b in c.findall('div'):\n",
    "        for player in b.findall('a'):\n",
    "            print(player.attrib)"
   ]
  },
  {
   "cell_type": "code",
   "execution_count": 84,
   "metadata": {},
   "outputs": [],
   "source": [
    "for x in el[2].findall('a'):\n",
    "    print(x.text)"
   ]
  },
  {
   "cell_type": "code",
   "execution_count": 58,
   "metadata": {},
   "outputs": [],
   "source": [
    "# for player in el[0].xpath(\"//div[@class='span15 dlineups-mainbox']//a\"):\n",
    "#     print(player.text)\n",
    "    \n",
    "etree.SubElement(el[2], \"a\").text"
   ]
  },
  {
   "cell_type": "code",
   "execution_count": 66,
   "metadata": {},
   "outputs": [
    {
     "ename": "TypeError",
     "evalue": "xpath() takes exactly 1 positional argument (2 given)",
     "output_type": "error",
     "traceback": [
      "\u001b[0;31m---------------------------------------------------------------------------\u001b[0m",
      "\u001b[0;31mTypeError\u001b[0m                                 Traceback (most recent call last)",
      "\u001b[0;32m<ipython-input-66-37a46731fe4d>\u001b[0m in \u001b[0;36m<module>\u001b[0;34m()\u001b[0m\n\u001b[0;32m----> 1\u001b[0;31m \u001b[0mplayers\u001b[0m \u001b[0;34m=\u001b[0m \u001b[0mhtml\u001b[0m\u001b[0;34m.\u001b[0m\u001b[0mxpath\u001b[0m\u001b[0;34m(\u001b[0m\u001b[0;34m\"//div[@class='dlineups-half']\"\u001b[0m\u001b[0;34m,\u001b[0m\u001b[0;34m\"a\"\u001b[0m\u001b[0;34m)\u001b[0m\u001b[0;34m\u001b[0m\u001b[0m\n\u001b[0m",
      "\u001b[0;32msrc/lxml/etree.pyx\u001b[0m in \u001b[0;36mlxml.etree._Element.xpath (src/lxml/etree.c:61145)\u001b[0;34m()\u001b[0m\n",
      "\u001b[0;31mTypeError\u001b[0m: xpath() takes exactly 1 positional argument (2 given)"
     ]
    }
   ],
   "source": [
    "players = html.findall(\"//div[@class='dlineups-half']\",\"a\")"
   ]
  },
  {
   "cell_type": "code",
   "execution_count": 64,
   "metadata": {},
   "outputs": [
    {
     "name": "stdout",
     "output_type": "stream",
     "text": [
      "DJ LeMahieu\n",
      "C. Blackmon\n",
      "Nolan Arenado\n",
      "Carlos Gonzalez\n",
      "Trevor Story\n",
      "Mike Tauchman\n",
      "Ryan McMahon\n",
      "Tony Wolters\n",
      "Tyler Anderson\n",
      "Scott Schebler\n",
      "Alex Blandino\n",
      "Joey Votto\n",
      "Eugenio Suarez\n",
      "Adam Duvall\n",
      "Curt Casali\n",
      "Brandon Dixon\n",
      "Tyler Mahle\n",
      "Billy Hamilton\n",
      "Joc Pederson\n",
      "Max Muncy\n",
      "Yasmani Grandal\n",
      "Matt Kemp\n",
      "Cody Bellinger\n",
      "Chris Taylor\n",
      "Breyvic Valera\n",
      "E. Hernandez\n",
      "Daniel Hudson\n",
      "Josh Harrison\n",
      "Gregory Polanco\n",
      "Starling Marte\n",
      "Josh Bell\n",
      "Corey Dickerson\n",
      "Colin Moran\n",
      "Elias Diaz\n",
      "Jordy Mercer\n",
      "Jameson Taillon\n",
      "Yoan Moncada\n",
      "Yolmer Sanchez\n",
      "Jose Abreu\n",
      "Daniel Palka\n",
      "Matt Davidson\n",
      "Omar Narvaez\n",
      "Jose Rondon\n",
      "Charlie Tilson\n",
      "Trayce Thompson\n",
      "Brian Dozier\n",
      "Eddie Rosario\n",
      "Eduardo Escobar\n",
      "Logan Morrison\n",
      "Robbie Grossman\n",
      "Mitch Garver\n",
      "Ryan LaMarre\n",
      "Ehire Adrianza\n",
      "Bobby Wilson\n",
      "Starlin Castro\n",
      "Derek Dietrich\n",
      "Justin Bour\n",
      "Brian Anderson\n",
      "JT Riddle\n",
      "Lewis Brinson\n",
      "Yadiel Rivera\n",
      "Bryan Holaday\n",
      "Trevor Richards\n",
      "Matt Carpenter\n",
      "Tommy Pham\n",
      "Jose Martinez\n",
      "Marcell Ozuna\n",
      "Dexter Fowler\n",
      "Yairo Munoz\n",
      "Kolten Wong\n",
      "Francisco Pena\n",
      "Miles Mikolas\n",
      "Cesar Hernandez\n",
      "Odubel Herrera\n",
      "Scott Kingery\n",
      "Carlos Santana\n",
      "Aaron Altherr\n",
      "Dylan Cozens\n",
      "Andrew Knapp\n",
      "J.P. Crawford\n",
      "Nick Pivetta\n",
      "Albert Almora\n",
      "Tommy La Stella\n",
      "Kris Bryant\n",
      "Anthony Rizzo\n",
      "Javier Baez\n",
      "Kyle Schwarber\n",
      "Ian Happ\n",
      "Chris Gimenez\n",
      "Tyler Chatwood\n",
      "Trey Mancini\n",
      "Adam Jones\n",
      "Manny Machado\n",
      "Danny Valencia\n",
      "Mark Trumbo\n",
      "Jonathan Schoop\n",
      "Chris Davis\n",
      "Craig Gentry\n",
      "Austin Wynns\n",
      "C. Granderson\n",
      "Y. Solarte\n",
      "T. Hernandez\n",
      "Justin Smoak\n",
      "Kendrys Morales\n",
      "Luke Maile\n",
      "Aledmys Diaz\n",
      "Randal Grichuk\n",
      "Gio Urshela\n",
      "JaCoby Jones\n",
      "N. Castellanos\n",
      "Miguel Cabrera\n",
      "Victor Martinez\n",
      "J. Candelario\n",
      "John Hicks\n",
      "Leonys Martin\n",
      "Jose Iglesias\n",
      "Dixon Machado\n",
      "A. Benintendi\n",
      "Xander Bogaerts\n",
      "J.D. Martinez\n",
      "Mitch Moreland\n",
      "Eduardo Nunez\n",
      "Sam Travis\n",
      "Rafael Devers\n",
      "C. Vazquez\n",
      "Blake Swihart\n",
      "Dee Gordon\n",
      "Jean Segura\n",
      "Mitch Haniger\n",
      "Nelson Cruz\n",
      "Kyle Seager\n",
      "Ryon Healy\n",
      "Denard Span\n",
      "G. Heredia\n",
      "David Freitas\n",
      "D. Robertson\n",
      "C.J. Cron\n",
      "Joey Wendle\n",
      "Wilson Ramos\n",
      "Matt Duffy\n",
      "Jake Bauers\n",
      "Carlos Gomez\n",
      "Mallex Smith\n",
      "Johnny Field\n"
     ]
    }
   ],
   "source": [
    "for player in players:\n",
    "    print(player.text)"
   ]
  },
  {
   "cell_type": "code",
   "execution_count": null,
   "metadata": {},
   "outputs": [],
   "source": []
  }
 ],
 "metadata": {
  "kernelspec": {
   "display_name": "Projects",
   "language": "python",
   "name": "projects"
  },
  "language_info": {
   "codemirror_mode": {
    "name": "ipython",
    "version": 2
   },
   "file_extension": ".py",
   "mimetype": "text/x-python",
   "name": "python",
   "nbconvert_exporter": "python",
   "pygments_lexer": "ipython2",
   "version": "2.7.15"
  }
 },
 "nbformat": 4,
 "nbformat_minor": 2
}
