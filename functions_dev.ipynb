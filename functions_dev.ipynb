{
 "cells": [
  {
   "cell_type": "code",
   "execution_count": 1,
   "metadata": {},
   "outputs": [],
   "source": [
    "import requests\n",
    "from bs4 import BeautifulSoup\n",
    "from lxml import html\n",
    "from lxml import etree\n",
    "import pandas as pd\n",
    "\n",
    "import sqlite3\n",
    "import datetime\n",
    "today_date = datetime.datetime.today().strftime('%Y-%m-%d')\n",
    "\n",
    "import config"
   ]
  },
  {
   "cell_type": "markdown",
   "metadata": {},
   "source": [
    "# Scraping\n",
    "___\n",
    "## Get boxes"
   ]
  },
  {
   "cell_type": "code",
   "execution_count": 2,
   "metadata": {},
   "outputs": [],
   "source": [
    "class daily_lineups(object):\n",
    "    def __init__(self):\n",
    "        self.lineup_url = 'https://www.rotowire.com/baseball/daily_lineups.htm'\n",
    "        self.page = requests.get(self.lineup_url)\n",
    "        self.tree = html.fromstring(self.page.content)\n",
    "        self.div_selection = \"contains(@class,'lineup is-mlb') and not(contains(@class,'is-tools'))\"\n",
    "        self.info_locations = {'team':\"//div[{}][{}]/div[2]/div/div/div[{}]/div[1]/text()\",\n",
    "                               'pitcher':\"//div[{}][{}]/div[2]/div[2]/ul[{}]/li[1]/div/a\",\n",
    "                               'players':\"//div[{}][{}]/div[2]/div[2]/ul[{}]/li/a\",\n",
    "                               'positions':\"//div[{}][{}]/div[2]/div[2]/ul[{}]/li/div[@class='lineup__pos']\"}\n",
    "    def main(self):\n",
    "        games = []\n",
    "        games_today = len(self.tree.xpath(\"//div[{}]\".format(self.div_selection)))\n",
    "        teams = [1,2]\n",
    "        for game_num in range(games_today):\n",
    "            game_num = game_num + 1\n",
    "            game = []\n",
    "            for team in teams:\n",
    "                team_temp = self.tree.xpath(self.info_locations['team'].format(self.div_selection,game_num,team))\n",
    "                pitcher_temp = self.tree.xpath(self.info_locations['pitcher'].format(self.div_selection,game_num,team))\n",
    "                position_temp = self.tree.xpath(self.info_locations['positions'].format(self.div_selection,game_num,team))\n",
    "                player_temp = self.tree.xpath(self.info_locations['players'].format(self.div_selection,game_num,team))\n",
    "                game += self.get_players(player_temp, position_temp, team_temp, pitcher_temp, game_num)\n",
    "            games += game\n",
    "        return games\n",
    "        \n",
    "\n",
    "    def get_team(self, team_scrape):\n",
    "        try:\n",
    "            team = team_scrape[0]\n",
    "        except:\n",
    "            team = None\n",
    "        return team\n",
    "    def get_pitcher(self, pitcher_scrape):\n",
    "        pitcher = pitcher_scrape[0].text\n",
    "        return pitcher\n",
    "    def get_players(self, players_scrape, position_scrape, team_scrape, pitcher_scrape, game_num):\n",
    "        team = self.get_team(team_scrape)\n",
    "        player_list = []\n",
    "        pitcher = self.get_pitcher(pitcher_scrape)\n",
    "        player_list.append({'fixture':game_num,\n",
    "                                'name':pitcher,\n",
    "                                'position':'P',\n",
    "                                'team':team})\n",
    "        for player_, position_ in zip(players_scrape, position_scrape):\n",
    "            position = position_.text\n",
    "            player_name = player_.attrib['title']\n",
    "            player_list.append({'fixture':game_num,\n",
    "                                'name':player_name,\n",
    "                                'position':position,\n",
    "                                'team':team})\n",
    "        return player_list"
   ]
  },
  {
   "cell_type": "code",
   "execution_count": 3,
   "metadata": {},
   "outputs": [],
   "source": [
    "gl = daily_lineups()\n",
    "pull_time = datetime.datetime.now().strftime('%Y-%m-%d %H:%M:%S')"
   ]
  },
  {
   "cell_type": "code",
   "execution_count": 4,
   "metadata": {},
   "outputs": [],
   "source": [
    "lineups = pd.DataFrame.from_dict(gl.main()).drop_duplicates()"
   ]
  },
  {
   "cell_type": "code",
   "execution_count": 5,
   "metadata": {},
   "outputs": [],
   "source": [
    "lineups['game_date'] = today_date\n",
    "lineups['pull_time'] = pull_time"
   ]
  },
  {
   "cell_type": "code",
   "execution_count": 6,
   "metadata": {},
   "outputs": [],
   "source": [
    "con = sqlite3.connect(config.lineups_db_path)"
   ]
  },
  {
   "cell_type": "code",
   "execution_count": 7,
   "metadata": {},
   "outputs": [],
   "source": [
    "lineups.to_sql('daily_lineups', con, if_exists='append', index=False)"
   ]
  },
  {
   "cell_type": "code",
   "execution_count": 8,
   "metadata": {},
   "outputs": [
    {
     "name": "stdout",
     "output_type": "stream",
     "text": [
      "Daily Lineup Table Updated\n"
     ]
    }
   ],
   "source": [
    "print('Daily Lineup Table Updated')"
   ]
  }
 ],
 "metadata": {
  "kernelspec": {
   "display_name": "Projects",
   "language": "python",
   "name": "projects"
  },
  "language_info": {
   "codemirror_mode": {
    "name": "ipython",
    "version": 2
   },
   "file_extension": ".py",
   "mimetype": "text/x-python",
   "name": "python",
   "nbconvert_exporter": "python",
   "pygments_lexer": "ipython2",
   "version": "2.7.15"
  }
 },
 "nbformat": 4,
 "nbformat_minor": 2
}
